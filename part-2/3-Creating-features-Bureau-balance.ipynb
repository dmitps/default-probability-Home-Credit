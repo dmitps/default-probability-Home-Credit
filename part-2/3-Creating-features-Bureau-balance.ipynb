{
  "cells": [
    {
      "cell_type": "markdown",
      "source": [
        "#Features from bureau_balance dataset\n",
        "\n",
        "Этот блокнот создает признаки из набора данных bureau_balance. Набор данных bureau_balance содержит информацию о ежемесячном остатке прошлых кредитов (активных или закрытых), предоставленных другими финансовыми учреждениями, которые были переданы в Бюро кредитных историй. Application связан с набором данных bureau через признак SK_ID_BUREAU."
      ],
      "metadata": {
        "id": "wE8kqHEzYOTY"
      }
    },
    {
      "cell_type": "code",
      "execution_count": null,
      "metadata": {
        "collapsed": true,
        "id": "i0A82lp9fe7n"
      },
      "outputs": [],
      "source": [
        "import numpy as np\n",
        "import pandas as pd\n",
        "\n",
        "# -----------------------------------------------------\n",
        "from google.colab import drive\n",
        "\n",
        "# -----------------------------------------------------\n",
        "import zipfile\n",
        "import time\n",
        "import sys\n",
        "import os\n",
        "import gc"
      ]
    },
    {
      "cell_type": "code",
      "source": [
        "# Сброс ограничений на число столбцов\n",
        "pd.set_option(\"display.max_columns\", None)\n",
        "\n",
        "# Сброс ограничений на число строк до 400\n",
        "pd.set_option(\"display.max_rows\", 400)"
      ],
      "metadata": {
        "id": "QNn8wdgsgXuc"
      },
      "execution_count": null,
      "outputs": []
    },
    {
      "cell_type": "code",
      "source": [
        "# Подключение Google Drive к текущей среде выполнения\n",
        "\n",
        "drive.mount(\"/content/drive\")"
      ],
      "metadata": {
        "colab": {
          "base_uri": "https://localhost:8080/"
        },
        "id": "GTgva01fgeX8",
        "outputId": "83efa731-77ef-4e75-91bc-2caf75fce1ae"
      },
      "execution_count": null,
      "outputs": [
        {
          "output_type": "stream",
          "name": "stdout",
          "text": [
            "Mounted at /content/drive\n"
          ]
        }
      ]
    },
    {
      "cell_type": "code",
      "source": [
        "# Функция распаковки содержимого архива в указанную директорию\n",
        "\n",
        "def extract_zip_file(zip_path, extract_path):\n",
        "    \"\"\"\n",
        "    Распаковка содержимого архива в указанную директорию\n",
        "\n",
        "    :param zip_path: Путь к архиву\n",
        "    :param extract_path: Путь к директории, куда нужно распаковать содержимое архива\n",
        "    \"\"\"\n",
        "    with zipfile.ZipFile(zip_path, \"r\") as z:\n",
        "        z.extractall(extract_path)"
      ],
      "metadata": {
        "id": "rm0-xTfyuiqi"
      },
      "execution_count": null,
      "outputs": []
    },
    {
      "cell_type": "code",
      "source": [
        "# Распаковка содержимого архива home-credit-default-risk в текущую директорию\n",
        "\n",
        "zip_file = \"/content/drive/My Drive/home-credit-default-risk.zip\"\n",
        "extract_path = \"/content/\"\n",
        "\n",
        "extract_zip_file(zip_file, extract_path)"
      ],
      "metadata": {
        "id": "X67fcgXtuijB"
      },
      "execution_count": null,
      "outputs": []
    },
    {
      "cell_type": "code",
      "source": [
        "# Распаковка содержимого архива 2 - Bureau features в текущую директорию\n",
        "\n",
        "zip_file = \"/content/drive/My Drive/2 - Bureau features.zip\"\n",
        "extract_path = \"/content/\"\n",
        "\n",
        "extract_zip_file(zip_file, extract_path)"
      ],
      "metadata": {
        "id": "alNlwuHuuibi"
      },
      "execution_count": null,
      "outputs": []
    },
    {
      "cell_type": "code",
      "source": [
        "# Чтение данных\n",
        "\n",
        "application = pd.read_csv(\"/content/2 - Bureau features/application.csv\")\n",
        "\n",
        "bureau = pd.read_csv(\"/content/home-credit-default-risk/bureau.csv\")\n",
        "bureau_balance = pd.read_csv(\"/content/home-credit-default-risk/bureau_balance.csv\")\n",
        "homecredit_columns_description = pd.read_csv(\"/content/2 - Bureau features/homecredit_columns_description.csv\", encoding=\"ISO-8859-1\")"
      ],
      "metadata": {
        "id": "HIkFRRV1g5ku"
      },
      "execution_count": null,
      "outputs": []
    },
    {
      "cell_type": "code",
      "source": [
        "# Проверка\n",
        "\n",
        "application.shape"
      ],
      "metadata": {
        "colab": {
          "base_uri": "https://localhost:8080/"
        },
        "id": "WDIZhPDhh0Vu",
        "outputId": "833596f8-0d48-4cbe-a8d1-78998de9a9b4"
      },
      "execution_count": null,
      "outputs": [
        {
          "output_type": "execute_result",
          "data": {
            "text/plain": [
              "(356255, 169)"
            ]
          },
          "metadata": {},
          "execution_count": 18
        }
      ]
    },
    {
      "cell_type": "code",
      "execution_count": null,
      "metadata": {
        "id": "55nB5mnOfe7p",
        "outputId": "08d74540-43c6-429a-c5ad-5e623809aa76",
        "colab": {
          "base_uri": "https://localhost:8080/",
          "height": 748
        }
      },
      "outputs": [
        {
          "output_type": "stream",
          "name": "stdout",
          "text": [
            "SK_BUREAU_ID Recoded ID of Credit Bureau credit (unique coding for each application) - use this to join to CREDIT_BUREAU table \n",
            "MONTHS_BALANCE Month of balance relative to application date (-1 means the freshest balance date)\n",
            "STATUS Status of Credit Bureau loan during the month (active, closed, DPD0-30,ÃÂ [C means closed, X means status unknown, 0 means no DPD, 1 means maximal did during month between 1-30, 2 means DPD 31-60,ÃÂ 5 means DPD 120+ or sold or written off ] )\n"
          ]
        },
        {
          "output_type": "execute_result",
          "data": {
            "text/plain": [
              "    SK_ID_BUREAU  MONTHS_BALANCE  STATUS\n",
              "0        5715448               0      -2\n",
              "1        5715448              -1      -2\n",
              "2        5715448              -2      -2\n",
              "3        5715448              -3      -2\n",
              "4        5715448              -4      -2\n",
              "5        5715448              -5      -2\n",
              "6        5715448              -6      -2\n",
              "7        5715448              -7      -2\n",
              "8        5715448              -8      -2\n",
              "9        5715448              -9       0\n",
              "10       5715448             -10       0\n",
              "11       5715448             -11      -1\n",
              "12       5715448             -12      -1\n",
              "13       5715448             -13      -1\n",
              "14       5715448             -14       0\n",
              "15       5715448             -15       0\n",
              "16       5715448             -16       0\n",
              "17       5715448             -17       0\n",
              "18       5715448             -18       0\n",
              "19       5715448             -19       0"
            ],
            "text/html": [
              "\n",
              "  <div id=\"df-ed5ee398-b70b-438d-81f0-b680ce9288d1\">\n",
              "    <div class=\"colab-df-container\">\n",
              "      <div>\n",
              "<style scoped>\n",
              "    .dataframe tbody tr th:only-of-type {\n",
              "        vertical-align: middle;\n",
              "    }\n",
              "\n",
              "    .dataframe tbody tr th {\n",
              "        vertical-align: top;\n",
              "    }\n",
              "\n",
              "    .dataframe thead th {\n",
              "        text-align: right;\n",
              "    }\n",
              "</style>\n",
              "<table border=\"1\" class=\"dataframe\">\n",
              "  <thead>\n",
              "    <tr style=\"text-align: right;\">\n",
              "      <th></th>\n",
              "      <th>SK_ID_BUREAU</th>\n",
              "      <th>MONTHS_BALANCE</th>\n",
              "      <th>STATUS</th>\n",
              "    </tr>\n",
              "  </thead>\n",
              "  <tbody>\n",
              "    <tr>\n",
              "      <th>0</th>\n",
              "      <td>5715448</td>\n",
              "      <td>0</td>\n",
              "      <td>-2</td>\n",
              "    </tr>\n",
              "    <tr>\n",
              "      <th>1</th>\n",
              "      <td>5715448</td>\n",
              "      <td>-1</td>\n",
              "      <td>-2</td>\n",
              "    </tr>\n",
              "    <tr>\n",
              "      <th>2</th>\n",
              "      <td>5715448</td>\n",
              "      <td>-2</td>\n",
              "      <td>-2</td>\n",
              "    </tr>\n",
              "    <tr>\n",
              "      <th>3</th>\n",
              "      <td>5715448</td>\n",
              "      <td>-3</td>\n",
              "      <td>-2</td>\n",
              "    </tr>\n",
              "    <tr>\n",
              "      <th>4</th>\n",
              "      <td>5715448</td>\n",
              "      <td>-4</td>\n",
              "      <td>-2</td>\n",
              "    </tr>\n",
              "    <tr>\n",
              "      <th>5</th>\n",
              "      <td>5715448</td>\n",
              "      <td>-5</td>\n",
              "      <td>-2</td>\n",
              "    </tr>\n",
              "    <tr>\n",
              "      <th>6</th>\n",
              "      <td>5715448</td>\n",
              "      <td>-6</td>\n",
              "      <td>-2</td>\n",
              "    </tr>\n",
              "    <tr>\n",
              "      <th>7</th>\n",
              "      <td>5715448</td>\n",
              "      <td>-7</td>\n",
              "      <td>-2</td>\n",
              "    </tr>\n",
              "    <tr>\n",
              "      <th>8</th>\n",
              "      <td>5715448</td>\n",
              "      <td>-8</td>\n",
              "      <td>-2</td>\n",
              "    </tr>\n",
              "    <tr>\n",
              "      <th>9</th>\n",
              "      <td>5715448</td>\n",
              "      <td>-9</td>\n",
              "      <td>0</td>\n",
              "    </tr>\n",
              "    <tr>\n",
              "      <th>10</th>\n",
              "      <td>5715448</td>\n",
              "      <td>-10</td>\n",
              "      <td>0</td>\n",
              "    </tr>\n",
              "    <tr>\n",
              "      <th>11</th>\n",
              "      <td>5715448</td>\n",
              "      <td>-11</td>\n",
              "      <td>-1</td>\n",
              "    </tr>\n",
              "    <tr>\n",
              "      <th>12</th>\n",
              "      <td>5715448</td>\n",
              "      <td>-12</td>\n",
              "      <td>-1</td>\n",
              "    </tr>\n",
              "    <tr>\n",
              "      <th>13</th>\n",
              "      <td>5715448</td>\n",
              "      <td>-13</td>\n",
              "      <td>-1</td>\n",
              "    </tr>\n",
              "    <tr>\n",
              "      <th>14</th>\n",
              "      <td>5715448</td>\n",
              "      <td>-14</td>\n",
              "      <td>0</td>\n",
              "    </tr>\n",
              "    <tr>\n",
              "      <th>15</th>\n",
              "      <td>5715448</td>\n",
              "      <td>-15</td>\n",
              "      <td>0</td>\n",
              "    </tr>\n",
              "    <tr>\n",
              "      <th>16</th>\n",
              "      <td>5715448</td>\n",
              "      <td>-16</td>\n",
              "      <td>0</td>\n",
              "    </tr>\n",
              "    <tr>\n",
              "      <th>17</th>\n",
              "      <td>5715448</td>\n",
              "      <td>-17</td>\n",
              "      <td>0</td>\n",
              "    </tr>\n",
              "    <tr>\n",
              "      <th>18</th>\n",
              "      <td>5715448</td>\n",
              "      <td>-18</td>\n",
              "      <td>0</td>\n",
              "    </tr>\n",
              "    <tr>\n",
              "      <th>19</th>\n",
              "      <td>5715448</td>\n",
              "      <td>-19</td>\n",
              "      <td>0</td>\n",
              "    </tr>\n",
              "  </tbody>\n",
              "</table>\n",
              "</div>\n",
              "      <button class=\"colab-df-convert\" onclick=\"convertToInteractive('df-ed5ee398-b70b-438d-81f0-b680ce9288d1')\"\n",
              "              title=\"Convert this dataframe to an interactive table.\"\n",
              "              style=\"display:none;\">\n",
              "        \n",
              "  <svg xmlns=\"http://www.w3.org/2000/svg\" height=\"24px\"viewBox=\"0 0 24 24\"\n",
              "       width=\"24px\">\n",
              "    <path d=\"M0 0h24v24H0V0z\" fill=\"none\"/>\n",
              "    <path d=\"M18.56 5.44l.94 2.06.94-2.06 2.06-.94-2.06-.94-.94-2.06-.94 2.06-2.06.94zm-11 1L8.5 8.5l.94-2.06 2.06-.94-2.06-.94L8.5 2.5l-.94 2.06-2.06.94zm10 10l.94 2.06.94-2.06 2.06-.94-2.06-.94-.94-2.06-.94 2.06-2.06.94z\"/><path d=\"M17.41 7.96l-1.37-1.37c-.4-.4-.92-.59-1.43-.59-.52 0-1.04.2-1.43.59L10.3 9.45l-7.72 7.72c-.78.78-.78 2.05 0 2.83L4 21.41c.39.39.9.59 1.41.59.51 0 1.02-.2 1.41-.59l7.78-7.78 2.81-2.81c.8-.78.8-2.07 0-2.86zM5.41 20L4 18.59l7.72-7.72 1.47 1.35L5.41 20z\"/>\n",
              "  </svg>\n",
              "      </button>\n",
              "      \n",
              "  <style>\n",
              "    .colab-df-container {\n",
              "      display:flex;\n",
              "      flex-wrap:wrap;\n",
              "      gap: 12px;\n",
              "    }\n",
              "\n",
              "    .colab-df-convert {\n",
              "      background-color: #E8F0FE;\n",
              "      border: none;\n",
              "      border-radius: 50%;\n",
              "      cursor: pointer;\n",
              "      display: none;\n",
              "      fill: #1967D2;\n",
              "      height: 32px;\n",
              "      padding: 0 0 0 0;\n",
              "      width: 32px;\n",
              "    }\n",
              "\n",
              "    .colab-df-convert:hover {\n",
              "      background-color: #E2EBFA;\n",
              "      box-shadow: 0px 1px 2px rgba(60, 64, 67, 0.3), 0px 1px 3px 1px rgba(60, 64, 67, 0.15);\n",
              "      fill: #174EA6;\n",
              "    }\n",
              "\n",
              "    [theme=dark] .colab-df-convert {\n",
              "      background-color: #3B4455;\n",
              "      fill: #D2E3FC;\n",
              "    }\n",
              "\n",
              "    [theme=dark] .colab-df-convert:hover {\n",
              "      background-color: #434B5C;\n",
              "      box-shadow: 0px 1px 3px 1px rgba(0, 0, 0, 0.15);\n",
              "      filter: drop-shadow(0px 1px 2px rgba(0, 0, 0, 0.3));\n",
              "      fill: #FFFFFF;\n",
              "    }\n",
              "  </style>\n",
              "\n",
              "      <script>\n",
              "        const buttonEl =\n",
              "          document.querySelector('#df-ed5ee398-b70b-438d-81f0-b680ce9288d1 button.colab-df-convert');\n",
              "        buttonEl.style.display =\n",
              "          google.colab.kernel.accessAllowed ? 'block' : 'none';\n",
              "\n",
              "        async function convertToInteractive(key) {\n",
              "          const element = document.querySelector('#df-ed5ee398-b70b-438d-81f0-b680ce9288d1');\n",
              "          const dataTable =\n",
              "            await google.colab.kernel.invokeFunction('convertToInteractive',\n",
              "                                                     [key], {});\n",
              "          if (!dataTable) return;\n",
              "\n",
              "          const docLinkHtml = 'Like what you see? Visit the ' +\n",
              "            '<a target=\"_blank\" href=https://colab.research.google.com/notebooks/data_table.ipynb>data table notebook</a>'\n",
              "            + ' to learn more about interactive tables.';\n",
              "          element.innerHTML = '';\n",
              "          dataTable['output_type'] = 'display_data';\n",
              "          await google.colab.output.renderOutput(dataTable, element);\n",
              "          const docLink = document.createElement('div');\n",
              "          docLink.innerHTML = docLinkHtml;\n",
              "          element.appendChild(docLink);\n",
              "        }\n",
              "      </script>\n",
              "    </div>\n",
              "  </div>\n",
              "  "
            ]
          },
          "metadata": {},
          "execution_count": 19
        }
      ],
      "source": [
        "# Описание столбцов в bureau_balance\n",
        "description_application = homecredit_columns_description[homecredit_columns_description[\"Table\"] == \"bureau_balance.csv\"]\n",
        "for index, row in description_application.iterrows():\n",
        "    print(row[\"Row\"], row[\"Description\"])\n",
        "\n",
        "# Изменение данных STATUS для преобразования в целочисленный тип\n",
        "bureau_balance.loc[bureau_balance[\"STATUS\"] == \"C\", \"STATUS\"] = -2\n",
        "bureau_balance.loc[bureau_balance[\"STATUS\"] == \"X\", \"STATUS\"] = -1\n",
        "bureau_balance[\"STATUS\"] = bureau_balance[\"STATUS\"].astype(int)\n",
        "\n",
        "bureau_balance.head(20)"
      ]
    },
    {
      "cell_type": "code",
      "execution_count": null,
      "metadata": {
        "collapsed": true,
        "id": "6iQjQtdefe7q"
      },
      "outputs": [],
      "source": [
        "# Объединение bureau_balance и bureau для получения связи с application (SK_ID_CURR)\n",
        "\n",
        "bureau_balance_id = bureau_balance.merge(bureau[[\"SK_ID_CURR\", \"SK_ID_BUREAU\"]], on =\"SK_ID_BUREAU\", how = \"left\")\n",
        "bureau_balance_id = bureau_balance_id.dropna(subset=[\"SK_ID_CURR\"])\n",
        "bureau_balance_id[\"SK_ID_CURR\"] = bureau_balance_id[\"SK_ID_CURR\"].astype(int)"
      ]
    },
    {
      "cell_type": "code",
      "execution_count": null,
      "metadata": {
        "id": "g37yMa57fe7q",
        "outputId": "c7d1d6a6-471c-4384-f6f8-a852a787fab1",
        "colab": {
          "base_uri": "https://localhost:8080/"
        }
      },
      "outputs": [
        {
          "output_type": "stream",
          "name": "stdout",
          "text": [
            "Progress:100.0%"
          ]
        }
      ],
      "source": [
        "# Извлечение признаков из bureau_balance\n",
        "\n",
        "# Создание пустых списков для каждого нового признака\n",
        "nb_months_list = []\n",
        "nb_late_payments_list = []\n",
        "nb_late_payments_3m_list = [] \n",
        "nb_late_payments_12m_list = []\n",
        "nb_late_payments_1_list = []\n",
        "nb_late_payments_2_list = [] \n",
        "nb_late_payments_3_list = []\n",
        "nb_late_payments_4_list = []\n",
        "nb_late_payments_5_list = []\n",
        "fr_late_payments = []\n",
        "\n",
        "counter = 0\n",
        "lenght = len(application)\n",
        "for index, row in application.iterrows():\n",
        "    counter += 1\n",
        "    sys.stdout.write('\\r'+\"Progress:\"+str(round(counter/lenght*100,1))+\"%\")\n",
        "    df = bureau_balance_id[bureau_balance_id[\"SK_ID_CURR\"] == row[\"SK_ID_CURR\"]]\n",
        "    if len(df) > 0:\n",
        "        # Общее количество месяцев\n",
        "        nb_months = len(df)             \n",
        "        # Общее количество просроченных платежей\n",
        "        nb_late_payments = len(df[df[\"STATUS\"] > 0])\n",
        "        # Количество просроченных платежей за последние 3 месяца\n",
        "        tmp = df[df[\"MONTHS_BALANCE\"] >= -3]\n",
        "        nb_late_payments_3m = len(tmp[tmp[\"STATUS\"] > 0])\n",
        "        # Количество просроченных платежей за последние 12 месяцев\n",
        "        tmp = df[df[\"MONTHS_BALANCE\"] >= -12]\n",
        "        nb_late_payments_12m = len(tmp[tmp[\"STATUS\"] > 0])\n",
        "        # Количество просроченных платежей с пометкой \"1\"\n",
        "        nb_late_payments_1 = len(df[df[\"STATUS\"] == 1])\n",
        "        # Количество просроченных платежей с пометкой \"2\"\n",
        "        nb_late_payments_2 = len(df[df[\"STATUS\"] == 2]) \n",
        "        # Количество просроченных платежей с пометкой \"3\"\n",
        "        nb_late_payments_3 = len(df[df[\"STATUS\"] == 3])\n",
        "        # Количество просроченных платежей с пометкой \"4\"\n",
        "        nb_late_payments_4 = len(df[df[\"STATUS\"] == 4]) \n",
        "        # Количество просроченных платежей с пометкой \"5\"\n",
        "        nb_late_payments_5 = len(df[df[\"STATUS\"] == 5])\n",
        "        nb_months_list.append(nb_months)\n",
        "        nb_late_payments_list.append(nb_late_payments)\n",
        "        nb_late_payments_3m_list.append(nb_late_payments_3m)\n",
        "        nb_late_payments_12m_list.append(nb_late_payments_12m)\n",
        "        nb_late_payments_1_list.append(nb_late_payments_1)\n",
        "        nb_late_payments_2_list.append(nb_late_payments_2)\n",
        "        nb_late_payments_3_list.append(nb_late_payments_3)\n",
        "        nb_late_payments_4_list.append(nb_late_payments_4)\n",
        "        nb_late_payments_5_list.append(nb_late_payments_5)\n",
        "        # Доля месяцев с просроченными платежами в bureau balance\n",
        "        if nb_months > 0:\n",
        "            fr_late_payments.append(nb_late_payments/nb_months)\n",
        "        else:\n",
        "            fr_late_payments.append(np.NaN)\n",
        "    else:\n",
        "        nb_months_list.append(0)\n",
        "        nb_late_payments_list.append(0)\n",
        "        nb_late_payments_3m_list.append(0)\n",
        "        nb_late_payments_12m_list.append(0)\n",
        "        nb_late_payments_1_list.append(0)\n",
        "        nb_late_payments_2_list.append(0)\n",
        "        nb_late_payments_3_list.append(0)\n",
        "        nb_late_payments_4_list.append(0)\n",
        "        nb_late_payments_5_list.append(0)\n",
        "        fr_late_payments.append(np.NaN)"
      ]
    },
    {
      "cell_type": "code",
      "execution_count": null,
      "metadata": {
        "collapsed": true,
        "id": "xHNRIYWQfe7r"
      },
      "outputs": [],
      "source": [
        "# Функция для отображения описания выбранного признака\n",
        "\n",
        "def add_description(table, row, description):\n",
        "    list_description = [np.NaN, table, row, description, np.NaN]\n",
        "    homecredit_columns_description.loc[len(homecredit_columns_description)] = list_description\n",
        "    return homecredit_columns_description"
      ]
    },
    {
      "cell_type": "code",
      "execution_count": null,
      "metadata": {
        "id": "IfVJGvZ7fe7r"
      },
      "outputs": [],
      "source": [
        "# Создание новых признаков из bureau_balance\n",
        "\n",
        "application[\"nb_months_list\"] = nb_months_list\n",
        "add_description(\"bureau_balance.csv\", \"nb_months_list\", \"Total number of months in bureau balance\")\n",
        "\n",
        "application[\"nb_late_payments_list\"] = nb_late_payments_list\n",
        "add_description(\"bureau_balance.csv\", \"nb_late_payments_list\", \"Total number of late payment months in bureau balance\")\n",
        "\n",
        "application[\"nb_late_payments_3m_list\"] = nb_late_payments_3m_list\n",
        "add_description(\"bureau_balance.csv\", \"nb_late_payments_3m_list\", \"Number of late payments in the last 3 months in bureau balance\")\n",
        "\n",
        "application[\"nb_late_payments_12m_list\"] = nb_late_payments_12m_list\n",
        "add_description(\"bureau_balance.csv\", \"nb_late_payments_12m_list\", \"Number of late payments in the last 12 months in bureau balance\")\n",
        "\n",
        "application[\"nb_late_payments_1_list\"] = nb_late_payments_1_list\n",
        "add_description(\"bureau_balance.csv\", \"nb_late_payments_1_list\", \"Number of category 1 late payments months in bureau balance\")\n",
        "\n",
        "application[\"nb_late_payments_2_list\"] = nb_late_payments_2_list\n",
        "add_description(\"bureau_balance.csv\", \"nb_late_payments_2_list\", \"Number of category 2 late payments months in bureau balance\")\n",
        "\n",
        "application[\"nb_late_payments_3_list\"] = nb_late_payments_3_list\n",
        "add_description(\"bureau_balance.csv\", \"nb_late_payments_3_list\", \"Number of category 3 late payments months in bureau balance\")\n",
        "\n",
        "application[\"nb_late_payments_4_list\"] = nb_late_payments_4_list\n",
        "add_description(\"bureau_balance.csv\", \"nb_late_payments_4_list\", \"Number of category 4 late payments months in bureau balance\")\n",
        "\n",
        "application[\"nb_late_payments_5_list\"] = nb_late_payments_5_list\n",
        "add_description(\"bureau_balance.csv\", \"nb_late_payments_5_list\", \"Number of category 5 late payments months in bureau balance\")\n",
        "\n",
        "application[\"fr_late_payments\"] = fr_late_payments\n",
        "add_description(\"bureau_balance.csv\", \"fr_late_payments\", \"Fraction of months with late payments in bureau balance\");"
      ]
    },
    {
      "cell_type": "code",
      "source": [
        "# Проверка\n",
        "\n",
        "application.shape"
      ],
      "metadata": {
        "colab": {
          "base_uri": "https://localhost:8080/"
        },
        "id": "CBhiJ5WsTWE3",
        "outputId": "bc2ee2aa-7f5d-4aca-93d2-b07ae8e6f83d"
      },
      "execution_count": null,
      "outputs": [
        {
          "output_type": "execute_result",
          "data": {
            "text/plain": [
              "(356255, 179)"
            ]
          },
          "metadata": {},
          "execution_count": 26
        }
      ]
    },
    {
      "cell_type": "code",
      "execution_count": null,
      "metadata": {
        "collapsed": true,
        "id": "NeGs7NKife7r"
      },
      "outputs": [],
      "source": [
        "# Сохранение application\n",
        "\n",
        "application.to_csv(\"application.csv\", index=False)"
      ]
    },
    {
      "cell_type": "code",
      "execution_count": null,
      "metadata": {
        "collapsed": true,
        "id": "1tqc4UrOfe7r"
      },
      "outputs": [],
      "source": [
        "# Сохранение homecredit_columns_description\n",
        "\n",
        "homecredit_columns_description.to_csv(\"homecredit_columns_description.csv\", index=False)"
      ]
    }
  ],
  "metadata": {
    "kernelspec": {
      "display_name": "Python 3",
      "language": "python",
      "name": "python3"
    },
    "language_info": {
      "codemirror_mode": {
        "name": "ipython",
        "version": 3
      },
      "file_extension": ".py",
      "mimetype": "text/x-python",
      "name": "python",
      "nbconvert_exporter": "python",
      "pygments_lexer": "ipython3",
      "version": "3.6.3"
    },
    "colab": {
      "provenance": []
    }
  },
  "nbformat": 4,
  "nbformat_minor": 0
}