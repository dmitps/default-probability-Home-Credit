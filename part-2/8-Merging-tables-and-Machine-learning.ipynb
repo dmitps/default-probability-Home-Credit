{
  "metadata": {
    "kernelspec": {
      "language": "python",
      "display_name": "Python 3",
      "name": "python3"
    },
    "language_info": {
      "name": "python",
      "version": "3.7.12",
      "mimetype": "text/x-python",
      "codemirror_mode": {
        "name": "ipython",
        "version": 3
      },
      "pygments_lexer": "ipython3",
      "nbconvert_exporter": "python",
      "file_extension": ".py"
    },
    "colab": {
      "provenance": []
    }
  },
  "nbformat_minor": 0,
  "nbformat": 4,
  "cells": [
    {
      "cell_type": "code",
      "source": [
        "import numpy as np\n",
        "import pandas as pd\n",
        "\n",
        "# ------------------------------------------------------------\n",
        "import matplotlib.pyplot as plt\n",
        "import seaborn as sns\n",
        "import sys\n",
        "import time\n",
        "import gc\n",
        "\n",
        "# ------------------------------------------------------------\n",
        "from sklearn.feature_selection import VarianceThreshold\n",
        "from sklearn.preprocessing import LabelEncoder, StandardScaler\n",
        "from sklearn.model_selection import KFold, cross_val_predict\n",
        "from sklearn.model_selection import train_test_split\n",
        "from sklearn.metrics import roc_auc_score, roc_curve, auc\n",
        "from sklearn.linear_model import LogisticRegression\n",
        "\n",
        "# ------------------------------------------------------------\n",
        "from lightgbm import LGBMClassifier\n",
        "\n",
        "# ------------------------------------------------------------\n",
        "from keras import Sequential, regularizers\n",
        "from keras.layers import Dense, Dropout\n",
        "from keras.callbacks import EarlyStopping, Callback"
      ],
      "metadata": {
        "execution": {
          "iopub.status.busy": "2023-04-06T05:48:30.442246Z",
          "iopub.execute_input": "2023-04-06T05:48:30.443194Z",
          "iopub.status.idle": "2023-04-06T05:48:41.158151Z",
          "shell.execute_reply.started": "2023-04-06T05:48:30.443159Z",
          "shell.execute_reply": "2023-04-06T05:48:41.156908Z"
        },
        "trusted": true,
        "id": "LlGggFHrD70F",
        "outputId": "34f22002-063a-4347-d5e1-f35d0677ec51"
      },
      "execution_count": null,
      "outputs": [
        {
          "output_type": "display_data",
          "data": {
            "text/plain": "<IPython.core.display.HTML object>",
            "text/html": "<style type='text/css'>\n.datatable table.frame { margin-bottom: 0; }\n.datatable table.frame thead { border-bottom: none; }\n.datatable table.frame tr.coltypes td {  color: #FFFFFF;  line-height: 6px;  padding: 0 0.5em;}\n.datatable .bool    { background: #DDDD99; }\n.datatable .object  { background: #565656; }\n.datatable .int     { background: #5D9E5D; }\n.datatable .float   { background: #4040CC; }\n.datatable .str     { background: #CC4040; }\n.datatable .time    { background: #40CC40; }\n.datatable .row_index {  background: var(--jp-border-color3);  border-right: 1px solid var(--jp-border-color0);  color: var(--jp-ui-font-color3);  font-size: 9px;}\n.datatable .frame tbody td { text-align: left; }\n.datatable .frame tr.coltypes .row_index {  background: var(--jp-border-color0);}\n.datatable th:nth-child(2) { padding-left: 12px; }\n.datatable .hellipsis {  color: var(--jp-cell-editor-border-color);}\n.datatable .vellipsis {  background: var(--jp-layout-color0);  color: var(--jp-cell-editor-border-color);}\n.datatable .na {  color: var(--jp-cell-editor-border-color);  font-size: 80%;}\n.datatable .sp {  opacity: 0.25;}\n.datatable .footer { font-size: 9px; }\n.datatable .frame_dimensions {  background: var(--jp-border-color3);  border-top: 1px solid var(--jp-border-color0);  color: var(--jp-ui-font-color3);  display: inline-block;  opacity: 0.6;  padding: 1px 10px 1px 5px;}\n</style>\n"
          },
          "metadata": {}
        }
      ]
    },
    {
      "cell_type": "code",
      "source": [
        "# Включаем автоматическую сборку мусора\n",
        "\n",
        "gc.enable()"
      ],
      "metadata": {
        "execution": {
          "iopub.status.busy": "2023-04-06T05:48:57.362452Z",
          "iopub.execute_input": "2023-04-06T05:48:57.363274Z",
          "iopub.status.idle": "2023-04-06T05:48:57.367321Z",
          "shell.execute_reply.started": "2023-04-06T05:48:57.363238Z",
          "shell.execute_reply": "2023-04-06T05:48:57.366452Z"
        },
        "trusted": true,
        "id": "deSsT_jgD70G"
      },
      "execution_count": null,
      "outputs": []
    },
    {
      "cell_type": "code",
      "source": [
        "# Загружаем данные\n",
        "\n",
        "application = pd.read_csv(\"/kaggle/input/after-manual-feature-generation/application.csv\")"
      ],
      "metadata": {
        "execution": {
          "iopub.status.busy": "2023-04-06T05:49:00.598885Z",
          "iopub.execute_input": "2023-04-06T05:49:00.599869Z",
          "iopub.status.idle": "2023-04-06T05:49:14.741247Z",
          "shell.execute_reply.started": "2023-04-06T05:49:00.599804Z",
          "shell.execute_reply": "2023-04-06T05:49:14.739722Z"
        },
        "trusted": true,
        "id": "QityDFh-D70G"
      },
      "execution_count": null,
      "outputs": []
    },
    {
      "cell_type": "code",
      "source": [
        "# Проверяем\n",
        "\n",
        "application.shape"
      ],
      "metadata": {
        "execution": {
          "iopub.status.busy": "2023-04-06T05:49:53.234831Z",
          "iopub.execute_input": "2023-04-06T05:49:53.235180Z",
          "iopub.status.idle": "2023-04-06T05:49:53.242903Z",
          "shell.execute_reply.started": "2023-04-06T05:49:53.235154Z",
          "shell.execute_reply": "2023-04-06T05:49:53.241260Z"
        },
        "trusted": true,
        "id": "809IP8UlD70G",
        "outputId": "338fd393-ecc3-439b-bbc7-38cc79922063"
      },
      "execution_count": null,
      "outputs": [
        {
          "execution_count": 6,
          "output_type": "execute_result",
          "data": {
            "text/plain": "(356255, 265)"
          },
          "metadata": {}
        }
      ]
    },
    {
      "cell_type": "code",
      "source": [
        "# Преобразовываем float 64 в float 32 для уменьшения использования памяти\n",
        "\n",
        "float_cols = application.select_dtypes(include=[\"float64\"]).columns\n",
        "application[float_cols] = application[float_cols].astype(np.float32)"
      ],
      "metadata": {
        "execution": {
          "iopub.status.busy": "2023-04-06T05:49:55.475080Z",
          "iopub.execute_input": "2023-04-06T05:49:55.475465Z",
          "iopub.status.idle": "2023-04-06T05:50:00.683790Z",
          "shell.execute_reply.started": "2023-04-06T05:49:55.475435Z",
          "shell.execute_reply": "2023-04-06T05:50:00.682555Z"
        },
        "trusted": true,
        "id": "EZwRQsI7D70H"
      },
      "execution_count": null,
      "outputs": []
    },
    {
      "cell_type": "code",
      "source": [
        "# label encoding для категориальных переменных\n",
        "\n",
        "categorical_features = [\n",
        "    \"NAME_CONTRACT_TYPE\", \"CODE_GENDER\", \"FLAG_OWN_CAR\",\\\n",
        "    \"FLAG_OWN_REALTY\", \"NAME_TYPE_SUITE\", \"NAME_INCOME_TYPE\",\\\n",
        "    \"NAME_EDUCATION_TYPE\", \"NAME_FAMILY_STATUS\", \"NAME_HOUSING_TYPE\",\\\n",
        "    \"OCCUPATION_TYPE\", \"WEEKDAY_APPR_PROCESS_START\", \"ORGANIZATION_TYPE\",\\\n",
        "    \"FONDKAPREMONT_MODE\", \"HOUSETYPE_MODE\", \"WALLSMATERIAL_MODE\",\\\n",
        "    \"EMERGENCYSTATE_MODE\", \"mode_accompanied_client_list\",\\\n",
        "    \"mode_client_type_list\", \"mode_portfolio_list\",\\\n",
        "    \"mode_channel_type_list\", \"mode_seller_type_list\",\\\n",
        "    \"main_reason_refusal_list\"\n",
        "]\n",
        "\n",
        "le = LabelEncoder()\n",
        "\n",
        "application[categorical_features] = application[categorical_features].fillna(\"Unknown\")\n",
        "\n",
        "for feature in categorical_features:\n",
        "    le.fit(application[feature])\n",
        "    application[feature] = le.transform(application[feature])"
      ],
      "metadata": {
        "execution": {
          "iopub.status.busy": "2023-04-06T05:50:04.410111Z",
          "iopub.execute_input": "2023-04-06T05:50:04.410523Z",
          "iopub.status.idle": "2023-04-06T05:50:07.318064Z",
          "shell.execute_reply.started": "2023-04-06T05:50:04.410465Z",
          "shell.execute_reply": "2023-04-06T05:50:07.317291Z"
        },
        "trusted": true,
        "id": "0iqXPiS_D70H"
      },
      "execution_count": null,
      "outputs": []
    },
    {
      "cell_type": "code",
      "source": [
        "# Проверяем\n",
        "\n",
        "application.shape"
      ],
      "metadata": {
        "execution": {
          "iopub.status.busy": "2023-04-06T05:50:10.487678Z",
          "iopub.execute_input": "2023-04-06T05:50:10.488590Z",
          "iopub.status.idle": "2023-04-06T05:50:10.494077Z",
          "shell.execute_reply.started": "2023-04-06T05:50:10.488550Z",
          "shell.execute_reply": "2023-04-06T05:50:10.493134Z"
        },
        "trusted": true,
        "id": "-KvSc5moD70I",
        "outputId": "3425b7e1-dc25-450d-f704-12ef8b2e1d40"
      },
      "execution_count": null,
      "outputs": [
        {
          "execution_count": 9,
          "output_type": "execute_result",
          "data": {
            "text/plain": "(356255, 265)"
          },
          "metadata": {}
        }
      ]
    },
    {
      "cell_type": "markdown",
      "source": [
        "# **Загрузка дополнительных таблиц**"
      ],
      "metadata": {
        "id": "nvnIp27tD70I"
      }
    },
    {
      "cell_type": "code",
      "source": [
        "# Загружаем данные\n",
        "\n",
        "prev = pd.read_csv('/kaggle/input/home-credit-default-risk/previous_application.csv')\n",
        "buro = pd.read_csv('/kaggle/input/home-credit-default-risk/bureau.csv')\n",
        "buro_balance = pd.read_csv('/kaggle/input/home-credit-default-risk/bureau_balance.csv')\n",
        "credit_card  = pd.read_csv('/kaggle/input/home-credit-default-risk/credit_card_balance.csv')\n",
        "POS_CASH  = pd.read_csv('/kaggle/input/home-credit-default-risk/POS_CASH_balance.csv')\n",
        "payments = pd.read_csv('/kaggle/input/home-credit-default-risk/installments_payments.csv')"
      ],
      "metadata": {
        "execution": {
          "iopub.status.busy": "2023-04-06T05:50:21.637009Z",
          "iopub.execute_input": "2023-04-06T05:50:21.637371Z",
          "iopub.status.idle": "2023-04-06T05:51:19.153010Z",
          "shell.execute_reply.started": "2023-04-06T05:50:21.637336Z",
          "shell.execute_reply": "2023-04-06T05:51:19.152223Z"
        },
        "trusted": true,
        "id": "Ttg5SEQLD70J"
      },
      "execution_count": null,
      "outputs": []
    },
    {
      "cell_type": "markdown",
      "source": [
        "# **Данные кредитного бюро по ежемесячному балансу кредитов**"
      ],
      "metadata": {
        "id": "2PYvxwqnD70K"
      }
    },
    {
      "cell_type": "code",
      "source": [
        "# Посмотрим на buro_balance\n",
        "\n",
        "buro_balance.head()"
      ],
      "metadata": {
        "execution": {
          "iopub.status.busy": "2023-04-06T05:51:26.013412Z",
          "iopub.execute_input": "2023-04-06T05:51:26.014135Z",
          "iopub.status.idle": "2023-04-06T05:51:26.034684Z",
          "shell.execute_reply.started": "2023-04-06T05:51:26.014095Z",
          "shell.execute_reply": "2023-04-06T05:51:26.033375Z"
        },
        "trusted": true,
        "id": "FeEkaBRFD70L",
        "outputId": "8f751160-2104-4d0f-c7da-189d50e154f9"
      },
      "execution_count": null,
      "outputs": [
        {
          "execution_count": 11,
          "output_type": "execute_result",
          "data": {
            "text/plain": "   SK_ID_BUREAU  MONTHS_BALANCE STATUS\n0       5715448               0      C\n1       5715448              -1      C\n2       5715448              -2      C\n3       5715448              -3      C\n4       5715448              -4      C",
            "text/html": "<div>\n<style scoped>\n    .dataframe tbody tr th:only-of-type {\n        vertical-align: middle;\n    }\n\n    .dataframe tbody tr th {\n        vertical-align: top;\n    }\n\n    .dataframe thead th {\n        text-align: right;\n    }\n</style>\n<table border=\"1\" class=\"dataframe\">\n  <thead>\n    <tr style=\"text-align: right;\">\n      <th></th>\n      <th>SK_ID_BUREAU</th>\n      <th>MONTHS_BALANCE</th>\n      <th>STATUS</th>\n    </tr>\n  </thead>\n  <tbody>\n    <tr>\n      <th>0</th>\n      <td>5715448</td>\n      <td>0</td>\n      <td>C</td>\n    </tr>\n    <tr>\n      <th>1</th>\n      <td>5715448</td>\n      <td>-1</td>\n      <td>C</td>\n    </tr>\n    <tr>\n      <th>2</th>\n      <td>5715448</td>\n      <td>-2</td>\n      <td>C</td>\n    </tr>\n    <tr>\n      <th>3</th>\n      <td>5715448</td>\n      <td>-3</td>\n      <td>C</td>\n    </tr>\n    <tr>\n      <th>4</th>\n      <td>5715448</td>\n      <td>-4</td>\n      <td>C</td>\n    </tr>\n  </tbody>\n</table>\n</div>"
          },
          "metadata": {}
        }
      ]
    },
    {
      "cell_type": "code",
      "source": [
        "# Статусы в buro_balance\n",
        "\n",
        "buro_balance.STATUS.value_counts()"
      ],
      "metadata": {
        "execution": {
          "iopub.status.busy": "2023-04-06T05:51:29.090115Z",
          "iopub.execute_input": "2023-04-06T05:51:29.090496Z",
          "iopub.status.idle": "2023-04-06T05:51:30.057187Z",
          "shell.execute_reply.started": "2023-04-06T05:51:29.090437Z",
          "shell.execute_reply": "2023-04-06T05:51:30.053573Z"
        },
        "trusted": true,
        "id": "i02lfMKTD70L",
        "outputId": "222d86e3-e061-4a6f-b161-a9dc88bb9eb7"
      },
      "execution_count": null,
      "outputs": [
        {
          "execution_count": 12,
          "output_type": "execute_result",
          "data": {
            "text/plain": "C    13646993\n0     7499507\nX     5810482\n1      242347\n5       62406\n2       23419\n3        8924\n4        5847\nName: STATUS, dtype: int64"
          },
          "metadata": {}
        }
      ]
    },
    {
      "cell_type": "code",
      "source": [
        "# Создаем новые признаки\n",
        "buro_grouped_size = buro_balance.groupby('SK_ID_BUREAU')['MONTHS_BALANCE'].size()\n",
        "buro_grouped_max = buro_balance.groupby('SK_ID_BUREAU')['MONTHS_BALANCE'].max()\n",
        "buro_grouped_min = buro_balance.groupby('SK_ID_BUREAU')['MONTHS_BALANCE'].min()\n",
        "\n",
        "# Группируем и применяем unstack\n",
        "buro_counts = buro_balance.groupby('SK_ID_BUREAU')['STATUS'].value_counts(normalize = False)\n",
        "buro_counts_unstacked = buro_counts.unstack('STATUS')\n",
        "buro_counts_unstacked.columns = ['STATUS_0', 'STATUS_1','STATUS_2','STATUS_3','STATUS_4','STATUS_5','STATUS_C','STATUS_X',]\n",
        "buro_counts_unstacked['MONTHS_COUNT'] = buro_grouped_size\n",
        "buro_counts_unstacked['MONTHS_MIN'] = buro_grouped_min\n",
        "buro_counts_unstacked['MONTHS_MAX'] = buro_grouped_max\n",
        "\n",
        "# Присоединяем buro_counts_unstacked к таблице buro\n",
        "buro = buro.join(buro_counts_unstacked, how='left', on='SK_ID_BUREAU')"
      ],
      "metadata": {
        "execution": {
          "iopub.status.busy": "2023-04-06T05:51:32.764968Z",
          "iopub.execute_input": "2023-04-06T05:51:32.765725Z",
          "iopub.status.idle": "2023-04-06T05:51:40.503235Z",
          "shell.execute_reply.started": "2023-04-06T05:51:32.765673Z",
          "shell.execute_reply": "2023-04-06T05:51:40.502147Z"
        },
        "trusted": true,
        "id": "s9F2nfYwD70L"
      },
      "execution_count": null,
      "outputs": []
    },
    {
      "cell_type": "code",
      "source": [
        "# Удаляем buro_balance\n",
        "\n",
        "del buro_balance\n",
        "\n",
        "gc.collect()"
      ],
      "metadata": {
        "execution": {
          "iopub.status.busy": "2023-04-06T05:51:43.916946Z",
          "iopub.execute_input": "2023-04-06T05:51:43.917328Z",
          "iopub.status.idle": "2023-04-06T05:51:44.280015Z",
          "shell.execute_reply.started": "2023-04-06T05:51:43.917295Z",
          "shell.execute_reply": "2023-04-06T05:51:44.278510Z"
        },
        "trusted": true,
        "id": "CNm4sU20D70L",
        "outputId": "b3f992a7-9ad5-4ae1-a34e-14a2903bfb50"
      },
      "execution_count": null,
      "outputs": [
        {
          "execution_count": 14,
          "output_type": "execute_result",
          "data": {
            "text/plain": "23"
          },
          "metadata": {}
        }
      ]
    },
    {
      "cell_type": "markdown",
      "source": [
        "# **Общие данные по кредитным бюро**"
      ],
      "metadata": {
        "id": "-TugzzmuD70M"
      }
    },
    {
      "cell_type": "code",
      "source": [
        "# Посмотрим на buro\n",
        "\n",
        "buro.head()"
      ],
      "metadata": {
        "execution": {
          "iopub.status.busy": "2023-04-06T05:51:47.454692Z",
          "iopub.execute_input": "2023-04-06T05:51:47.455099Z",
          "iopub.status.idle": "2023-04-06T05:51:47.486686Z",
          "shell.execute_reply.started": "2023-04-06T05:51:47.455064Z",
          "shell.execute_reply": "2023-04-06T05:51:47.485306Z"
        },
        "trusted": true,
        "id": "tcashafQD70M",
        "outputId": "693d1d92-2584-4ffe-a1d8-458497170de5"
      },
      "execution_count": null,
      "outputs": [
        {
          "execution_count": 15,
          "output_type": "execute_result",
          "data": {
            "text/plain": "   SK_ID_CURR  SK_ID_BUREAU CREDIT_ACTIVE CREDIT_CURRENCY  DAYS_CREDIT  \\\n0      215354       5714462        Closed      currency 1         -497   \n1      215354       5714463        Active      currency 1         -208   \n2      215354       5714464        Active      currency 1         -203   \n3      215354       5714465        Active      currency 1         -203   \n4      215354       5714466        Active      currency 1         -629   \n\n   CREDIT_DAY_OVERDUE  DAYS_CREDIT_ENDDATE  DAYS_ENDDATE_FACT  \\\n0                   0               -153.0             -153.0   \n1                   0               1075.0                NaN   \n2                   0                528.0                NaN   \n3                   0                  NaN                NaN   \n4                   0               1197.0                NaN   \n\n   AMT_CREDIT_MAX_OVERDUE  CNT_CREDIT_PROLONG  ...  STATUS_1  STATUS_2  \\\n0                     NaN                   0  ...       NaN       NaN   \n1                     NaN                   0  ...       NaN       NaN   \n2                     NaN                   0  ...       NaN       NaN   \n3                     NaN                   0  ...       NaN       NaN   \n4                 77674.5                   0  ...       NaN       NaN   \n\n   STATUS_3  STATUS_4 STATUS_5  STATUS_C  STATUS_X  MONTHS_COUNT  MONTHS_MIN  \\\n0       NaN       NaN      NaN       NaN       NaN           NaN         NaN   \n1       NaN       NaN      NaN       NaN       NaN           NaN         NaN   \n2       NaN       NaN      NaN       NaN       NaN           NaN         NaN   \n3       NaN       NaN      NaN       NaN       NaN           NaN         NaN   \n4       NaN       NaN      NaN       NaN       NaN           NaN         NaN   \n\n   MONTHS_MAX  \n0         NaN  \n1         NaN  \n2         NaN  \n3         NaN  \n4         NaN  \n\n[5 rows x 28 columns]",
            "text/html": "<div>\n<style scoped>\n    .dataframe tbody tr th:only-of-type {\n        vertical-align: middle;\n    }\n\n    .dataframe tbody tr th {\n        vertical-align: top;\n    }\n\n    .dataframe thead th {\n        text-align: right;\n    }\n</style>\n<table border=\"1\" class=\"dataframe\">\n  <thead>\n    <tr style=\"text-align: right;\">\n      <th></th>\n      <th>SK_ID_CURR</th>\n      <th>SK_ID_BUREAU</th>\n      <th>CREDIT_ACTIVE</th>\n      <th>CREDIT_CURRENCY</th>\n      <th>DAYS_CREDIT</th>\n      <th>CREDIT_DAY_OVERDUE</th>\n      <th>DAYS_CREDIT_ENDDATE</th>\n      <th>DAYS_ENDDATE_FACT</th>\n      <th>AMT_CREDIT_MAX_OVERDUE</th>\n      <th>CNT_CREDIT_PROLONG</th>\n      <th>...</th>\n      <th>STATUS_1</th>\n      <th>STATUS_2</th>\n      <th>STATUS_3</th>\n      <th>STATUS_4</th>\n      <th>STATUS_5</th>\n      <th>STATUS_C</th>\n      <th>STATUS_X</th>\n      <th>MONTHS_COUNT</th>\n      <th>MONTHS_MIN</th>\n      <th>MONTHS_MAX</th>\n    </tr>\n  </thead>\n  <tbody>\n    <tr>\n      <th>0</th>\n      <td>215354</td>\n      <td>5714462</td>\n      <td>Closed</td>\n      <td>currency 1</td>\n      <td>-497</td>\n      <td>0</td>\n      <td>-153.0</td>\n      <td>-153.0</td>\n      <td>NaN</td>\n      <td>0</td>\n      <td>...</td>\n      <td>NaN</td>\n      <td>NaN</td>\n      <td>NaN</td>\n      <td>NaN</td>\n      <td>NaN</td>\n      <td>NaN</td>\n      <td>NaN</td>\n      <td>NaN</td>\n      <td>NaN</td>\n      <td>NaN</td>\n    </tr>\n    <tr>\n      <th>1</th>\n      <td>215354</td>\n      <td>5714463</td>\n      <td>Active</td>\n      <td>currency 1</td>\n      <td>-208</td>\n      <td>0</td>\n      <td>1075.0</td>\n      <td>NaN</td>\n      <td>NaN</td>\n      <td>0</td>\n      <td>...</td>\n      <td>NaN</td>\n      <td>NaN</td>\n      <td>NaN</td>\n      <td>NaN</td>\n      <td>NaN</td>\n      <td>NaN</td>\n      <td>NaN</td>\n      <td>NaN</td>\n      <td>NaN</td>\n      <td>NaN</td>\n    </tr>\n    <tr>\n      <th>2</th>\n      <td>215354</td>\n      <td>5714464</td>\n      <td>Active</td>\n      <td>currency 1</td>\n      <td>-203</td>\n      <td>0</td>\n      <td>528.0</td>\n      <td>NaN</td>\n      <td>NaN</td>\n      <td>0</td>\n      <td>...</td>\n      <td>NaN</td>\n      <td>NaN</td>\n      <td>NaN</td>\n      <td>NaN</td>\n      <td>NaN</td>\n      <td>NaN</td>\n      <td>NaN</td>\n      <td>NaN</td>\n      <td>NaN</td>\n      <td>NaN</td>\n    </tr>\n    <tr>\n      <th>3</th>\n      <td>215354</td>\n      <td>5714465</td>\n      <td>Active</td>\n      <td>currency 1</td>\n      <td>-203</td>\n      <td>0</td>\n      <td>NaN</td>\n      <td>NaN</td>\n      <td>NaN</td>\n      <td>0</td>\n      <td>...</td>\n      <td>NaN</td>\n      <td>NaN</td>\n      <td>NaN</td>\n      <td>NaN</td>\n      <td>NaN</td>\n      <td>NaN</td>\n      <td>NaN</td>\n      <td>NaN</td>\n      <td>NaN</td>\n      <td>NaN</td>\n    </tr>\n    <tr>\n      <th>4</th>\n      <td>215354</td>\n      <td>5714466</td>\n      <td>Active</td>\n      <td>currency 1</td>\n      <td>-629</td>\n      <td>0</td>\n      <td>1197.0</td>\n      <td>NaN</td>\n      <td>77674.5</td>\n      <td>0</td>\n      <td>...</td>\n      <td>NaN</td>\n      <td>NaN</td>\n      <td>NaN</td>\n      <td>NaN</td>\n      <td>NaN</td>\n      <td>NaN</td>\n      <td>NaN</td>\n      <td>NaN</td>\n      <td>NaN</td>\n      <td>NaN</td>\n    </tr>\n  </tbody>\n</table>\n<p>5 rows × 28 columns</p>\n</div>"
          },
          "metadata": {}
        }
      ]
    },
    {
      "cell_type": "code",
      "source": [
        "# Закодируем категориальные признаки\n",
        "buro_cat_features = [bcol for bcol in buro.columns if buro[bcol].dtype == 'object']\n",
        "buro = pd.get_dummies(buro, columns=buro_cat_features)\n",
        "\n",
        "# Группируем, подготавливаем для объединения с основной таблицей\n",
        "\n",
        "avg_buro = buro.groupby('SK_ID_CURR').mean()\n",
        "avg_buro['buro_count'] = buro[['SK_ID_BUREAU', 'SK_ID_CURR']].groupby('SK_ID_CURR').count()['SK_ID_BUREAU']\n",
        "\n",
        "del avg_buro['SK_ID_BUREAU']"
      ],
      "metadata": {
        "execution": {
          "iopub.status.busy": "2023-04-06T05:51:50.200402Z",
          "iopub.execute_input": "2023-04-06T05:51:50.200814Z",
          "iopub.status.idle": "2023-04-06T05:51:52.126086Z",
          "shell.execute_reply.started": "2023-04-06T05:51:50.200780Z",
          "shell.execute_reply": "2023-04-06T05:51:52.124439Z"
        },
        "trusted": true,
        "id": "d1KkRK21D70M"
      },
      "execution_count": null,
      "outputs": []
    },
    {
      "cell_type": "code",
      "source": [
        "# Удаляем buro\n",
        "\n",
        "del buro\n",
        "\n",
        "gc.collect()"
      ],
      "metadata": {
        "execution": {
          "iopub.status.busy": "2023-04-06T05:52:18.118353Z",
          "iopub.execute_input": "2023-04-06T05:52:18.118778Z",
          "iopub.status.idle": "2023-04-06T05:52:18.333683Z",
          "shell.execute_reply.started": "2023-04-06T05:52:18.118744Z",
          "shell.execute_reply": "2023-04-06T05:52:18.331844Z"
        },
        "trusted": true,
        "id": "aPvWtsvaD70M",
        "outputId": "a8954f3e-644e-45a5-84d8-2e55fea34a3e"
      },
      "execution_count": null,
      "outputs": [
        {
          "execution_count": 17,
          "output_type": "execute_result",
          "data": {
            "text/plain": "46"
          },
          "metadata": {}
        }
      ]
    },
    {
      "cell_type": "markdown",
      "source": [
        "# **Данные по предыдущим заявкам**"
      ],
      "metadata": {
        "id": "VLjdCZ2lD70N"
      }
    },
    {
      "cell_type": "code",
      "source": [
        "# Посмотрим на prev\n",
        "\n",
        "prev.head()"
      ],
      "metadata": {
        "execution": {
          "iopub.status.busy": "2023-04-06T05:52:22.103875Z",
          "iopub.execute_input": "2023-04-06T05:52:22.104256Z",
          "iopub.status.idle": "2023-04-06T05:52:22.131709Z",
          "shell.execute_reply.started": "2023-04-06T05:52:22.104223Z",
          "shell.execute_reply": "2023-04-06T05:52:22.130222Z"
        },
        "trusted": true,
        "id": "mNyQpSRKD70N",
        "outputId": "6d23c66c-d345-466d-93b4-0eee3d9e9dec"
      },
      "execution_count": null,
      "outputs": [
        {
          "execution_count": 18,
          "output_type": "execute_result",
          "data": {
            "text/plain": "   SK_ID_PREV  SK_ID_CURR NAME_CONTRACT_TYPE  AMT_ANNUITY  AMT_APPLICATION  \\\n0     2030495      271877     Consumer loans     1730.430          17145.0   \n1     2802425      108129         Cash loans    25188.615         607500.0   \n2     2523466      122040         Cash loans    15060.735         112500.0   \n3     2819243      176158         Cash loans    47041.335         450000.0   \n4     1784265      202054         Cash loans    31924.395         337500.0   \n\n   AMT_CREDIT  AMT_DOWN_PAYMENT  AMT_GOODS_PRICE WEEKDAY_APPR_PROCESS_START  \\\n0     17145.0               0.0          17145.0                   SATURDAY   \n1    679671.0               NaN         607500.0                   THURSDAY   \n2    136444.5               NaN         112500.0                    TUESDAY   \n3    470790.0               NaN         450000.0                     MONDAY   \n4    404055.0               NaN         337500.0                   THURSDAY   \n\n   HOUR_APPR_PROCESS_START  ... NAME_SELLER_INDUSTRY  CNT_PAYMENT  \\\n0                       15  ...         Connectivity         12.0   \n1                       11  ...                  XNA         36.0   \n2                       11  ...                  XNA         12.0   \n3                        7  ...                  XNA         12.0   \n4                        9  ...                  XNA         24.0   \n\n   NAME_YIELD_GROUP       PRODUCT_COMBINATION  DAYS_FIRST_DRAWING  \\\n0            middle  POS mobile with interest            365243.0   \n1        low_action          Cash X-Sell: low            365243.0   \n2              high         Cash X-Sell: high            365243.0   \n3            middle       Cash X-Sell: middle            365243.0   \n4              high         Cash Street: high                 NaN   \n\n  DAYS_FIRST_DUE DAYS_LAST_DUE_1ST_VERSION  DAYS_LAST_DUE DAYS_TERMINATION  \\\n0          -42.0                     300.0          -42.0            -37.0   \n1         -134.0                     916.0       365243.0         365243.0   \n2         -271.0                      59.0       365243.0         365243.0   \n3         -482.0                    -152.0         -182.0           -177.0   \n4            NaN                       NaN            NaN              NaN   \n\n  NFLAG_INSURED_ON_APPROVAL  \n0                       0.0  \n1                       1.0  \n2                       1.0  \n3                       1.0  \n4                       NaN  \n\n[5 rows x 37 columns]",
            "text/html": "<div>\n<style scoped>\n    .dataframe tbody tr th:only-of-type {\n        vertical-align: middle;\n    }\n\n    .dataframe tbody tr th {\n        vertical-align: top;\n    }\n\n    .dataframe thead th {\n        text-align: right;\n    }\n</style>\n<table border=\"1\" class=\"dataframe\">\n  <thead>\n    <tr style=\"text-align: right;\">\n      <th></th>\n      <th>SK_ID_PREV</th>\n      <th>SK_ID_CURR</th>\n      <th>NAME_CONTRACT_TYPE</th>\n      <th>AMT_ANNUITY</th>\n      <th>AMT_APPLICATION</th>\n      <th>AMT_CREDIT</th>\n      <th>AMT_DOWN_PAYMENT</th>\n      <th>AMT_GOODS_PRICE</th>\n      <th>WEEKDAY_APPR_PROCESS_START</th>\n      <th>HOUR_APPR_PROCESS_START</th>\n      <th>...</th>\n      <th>NAME_SELLER_INDUSTRY</th>\n      <th>CNT_PAYMENT</th>\n      <th>NAME_YIELD_GROUP</th>\n      <th>PRODUCT_COMBINATION</th>\n      <th>DAYS_FIRST_DRAWING</th>\n      <th>DAYS_FIRST_DUE</th>\n      <th>DAYS_LAST_DUE_1ST_VERSION</th>\n      <th>DAYS_LAST_DUE</th>\n      <th>DAYS_TERMINATION</th>\n      <th>NFLAG_INSURED_ON_APPROVAL</th>\n    </tr>\n  </thead>\n  <tbody>\n    <tr>\n      <th>0</th>\n      <td>2030495</td>\n      <td>271877</td>\n      <td>Consumer loans</td>\n      <td>1730.430</td>\n      <td>17145.0</td>\n      <td>17145.0</td>\n      <td>0.0</td>\n      <td>17145.0</td>\n      <td>SATURDAY</td>\n      <td>15</td>\n      <td>...</td>\n      <td>Connectivity</td>\n      <td>12.0</td>\n      <td>middle</td>\n      <td>POS mobile with interest</td>\n      <td>365243.0</td>\n      <td>-42.0</td>\n      <td>300.0</td>\n      <td>-42.0</td>\n      <td>-37.0</td>\n      <td>0.0</td>\n    </tr>\n    <tr>\n      <th>1</th>\n      <td>2802425</td>\n      <td>108129</td>\n      <td>Cash loans</td>\n      <td>25188.615</td>\n      <td>607500.0</td>\n      <td>679671.0</td>\n      <td>NaN</td>\n      <td>607500.0</td>\n      <td>THURSDAY</td>\n      <td>11</td>\n      <td>...</td>\n      <td>XNA</td>\n      <td>36.0</td>\n      <td>low_action</td>\n      <td>Cash X-Sell: low</td>\n      <td>365243.0</td>\n      <td>-134.0</td>\n      <td>916.0</td>\n      <td>365243.0</td>\n      <td>365243.0</td>\n      <td>1.0</td>\n    </tr>\n    <tr>\n      <th>2</th>\n      <td>2523466</td>\n      <td>122040</td>\n      <td>Cash loans</td>\n      <td>15060.735</td>\n      <td>112500.0</td>\n      <td>136444.5</td>\n      <td>NaN</td>\n      <td>112500.0</td>\n      <td>TUESDAY</td>\n      <td>11</td>\n      <td>...</td>\n      <td>XNA</td>\n      <td>12.0</td>\n      <td>high</td>\n      <td>Cash X-Sell: high</td>\n      <td>365243.0</td>\n      <td>-271.0</td>\n      <td>59.0</td>\n      <td>365243.0</td>\n      <td>365243.0</td>\n      <td>1.0</td>\n    </tr>\n    <tr>\n      <th>3</th>\n      <td>2819243</td>\n      <td>176158</td>\n      <td>Cash loans</td>\n      <td>47041.335</td>\n      <td>450000.0</td>\n      <td>470790.0</td>\n      <td>NaN</td>\n      <td>450000.0</td>\n      <td>MONDAY</td>\n      <td>7</td>\n      <td>...</td>\n      <td>XNA</td>\n      <td>12.0</td>\n      <td>middle</td>\n      <td>Cash X-Sell: middle</td>\n      <td>365243.0</td>\n      <td>-482.0</td>\n      <td>-152.0</td>\n      <td>-182.0</td>\n      <td>-177.0</td>\n      <td>1.0</td>\n    </tr>\n    <tr>\n      <th>4</th>\n      <td>1784265</td>\n      <td>202054</td>\n      <td>Cash loans</td>\n      <td>31924.395</td>\n      <td>337500.0</td>\n      <td>404055.0</td>\n      <td>NaN</td>\n      <td>337500.0</td>\n      <td>THURSDAY</td>\n      <td>9</td>\n      <td>...</td>\n      <td>XNA</td>\n      <td>24.0</td>\n      <td>high</td>\n      <td>Cash Street: high</td>\n      <td>NaN</td>\n      <td>NaN</td>\n      <td>NaN</td>\n      <td>NaN</td>\n      <td>NaN</td>\n      <td>NaN</td>\n    </tr>\n  </tbody>\n</table>\n<p>5 rows × 37 columns</p>\n</div>"
          },
          "metadata": {}
        }
      ]
    },
    {
      "cell_type": "code",
      "source": [
        "# Закодируем категориальные признаки\n",
        "prev_cat_features = [pcol for pcol in prev.columns if prev[pcol].dtype == 'object']\n",
        "prev = pd.get_dummies(prev, columns=prev_cat_features)\n",
        "\n",
        "# Группируем, подготавливаем для объединения с основной таблицей\n",
        "\n",
        "avg_prev = prev.groupby('SK_ID_CURR').mean()\n",
        "cnt_prev = prev[['SK_ID_CURR', 'SK_ID_PREV']].groupby('SK_ID_CURR').count()\n",
        "\n",
        "avg_prev['nb_app'] = cnt_prev['SK_ID_PREV']\n",
        "\n",
        "del avg_prev['SK_ID_PREV']"
      ],
      "metadata": {
        "execution": {
          "iopub.status.busy": "2023-04-06T05:52:25.107881Z",
          "iopub.execute_input": "2023-04-06T05:52:25.108292Z",
          "iopub.status.idle": "2023-04-06T05:52:33.060217Z",
          "shell.execute_reply.started": "2023-04-06T05:52:25.108254Z",
          "shell.execute_reply": "2023-04-06T05:52:33.058694Z"
        },
        "trusted": true,
        "id": "d0z57y-tD70N"
      },
      "execution_count": null,
      "outputs": []
    },
    {
      "cell_type": "code",
      "source": [
        "# Удаляем prev\n",
        "\n",
        "del prev\n",
        "\n",
        "gc.collect()"
      ],
      "metadata": {
        "execution": {
          "iopub.status.busy": "2023-04-06T05:52:39.750930Z",
          "iopub.execute_input": "2023-04-06T05:52:39.752089Z",
          "iopub.status.idle": "2023-04-06T05:52:39.974732Z",
          "shell.execute_reply.started": "2023-04-06T05:52:39.752044Z",
          "shell.execute_reply": "2023-04-06T05:52:39.973315Z"
        },
        "trusted": true,
        "id": "jvsxXI9aD70N",
        "outputId": "d0b59763-6ac5-412a-c780-84afba8056b6"
      },
      "execution_count": null,
      "outputs": [
        {
          "execution_count": 20,
          "output_type": "execute_result",
          "data": {
            "text/plain": "23"
          },
          "metadata": {}
        }
      ]
    },
    {
      "cell_type": "markdown",
      "source": [
        "# **Баланс по кредитной карте**"
      ],
      "metadata": {
        "id": "KGXR1GkVD70N"
      }
    },
    {
      "cell_type": "code",
      "source": [
        "# Посмотрим на POS_CASH\n",
        "\n",
        "POS_CASH.head()"
      ],
      "metadata": {
        "execution": {
          "iopub.status.busy": "2023-04-06T05:52:42.998390Z",
          "iopub.execute_input": "2023-04-06T05:52:42.998836Z",
          "iopub.status.idle": "2023-04-06T05:52:43.011802Z",
          "shell.execute_reply.started": "2023-04-06T05:52:42.998800Z",
          "shell.execute_reply": "2023-04-06T05:52:43.010610Z"
        },
        "trusted": true,
        "id": "YWw6dpSiD70N",
        "outputId": "f0f06510-acaa-4dd1-9e32-c8300edb0865"
      },
      "execution_count": null,
      "outputs": [
        {
          "execution_count": 21,
          "output_type": "execute_result",
          "data": {
            "text/plain": "   SK_ID_PREV  SK_ID_CURR  MONTHS_BALANCE  CNT_INSTALMENT  \\\n0     1803195      182943             -31            48.0   \n1     1715348      367990             -33            36.0   \n2     1784872      397406             -32            12.0   \n3     1903291      269225             -35            48.0   \n4     2341044      334279             -35            36.0   \n\n   CNT_INSTALMENT_FUTURE NAME_CONTRACT_STATUS  SK_DPD  SK_DPD_DEF  \n0                   45.0               Active       0           0  \n1                   35.0               Active       0           0  \n2                    9.0               Active       0           0  \n3                   42.0               Active       0           0  \n4                   35.0               Active       0           0  ",
            "text/html": "<div>\n<style scoped>\n    .dataframe tbody tr th:only-of-type {\n        vertical-align: middle;\n    }\n\n    .dataframe tbody tr th {\n        vertical-align: top;\n    }\n\n    .dataframe thead th {\n        text-align: right;\n    }\n</style>\n<table border=\"1\" class=\"dataframe\">\n  <thead>\n    <tr style=\"text-align: right;\">\n      <th></th>\n      <th>SK_ID_PREV</th>\n      <th>SK_ID_CURR</th>\n      <th>MONTHS_BALANCE</th>\n      <th>CNT_INSTALMENT</th>\n      <th>CNT_INSTALMENT_FUTURE</th>\n      <th>NAME_CONTRACT_STATUS</th>\n      <th>SK_DPD</th>\n      <th>SK_DPD_DEF</th>\n    </tr>\n  </thead>\n  <tbody>\n    <tr>\n      <th>0</th>\n      <td>1803195</td>\n      <td>182943</td>\n      <td>-31</td>\n      <td>48.0</td>\n      <td>45.0</td>\n      <td>Active</td>\n      <td>0</td>\n      <td>0</td>\n    </tr>\n    <tr>\n      <th>1</th>\n      <td>1715348</td>\n      <td>367990</td>\n      <td>-33</td>\n      <td>36.0</td>\n      <td>35.0</td>\n      <td>Active</td>\n      <td>0</td>\n      <td>0</td>\n    </tr>\n    <tr>\n      <th>2</th>\n      <td>1784872</td>\n      <td>397406</td>\n      <td>-32</td>\n      <td>12.0</td>\n      <td>9.0</td>\n      <td>Active</td>\n      <td>0</td>\n      <td>0</td>\n    </tr>\n    <tr>\n      <th>3</th>\n      <td>1903291</td>\n      <td>269225</td>\n      <td>-35</td>\n      <td>48.0</td>\n      <td>42.0</td>\n      <td>Active</td>\n      <td>0</td>\n      <td>0</td>\n    </tr>\n    <tr>\n      <th>4</th>\n      <td>2341044</td>\n      <td>334279</td>\n      <td>-35</td>\n      <td>36.0</td>\n      <td>35.0</td>\n      <td>Active</td>\n      <td>0</td>\n      <td>0</td>\n    </tr>\n  </tbody>\n</table>\n</div>"
          },
          "metadata": {}
        }
      ]
    },
    {
      "cell_type": "code",
      "source": [
        "# Статусы в POS_CASH\n",
        "\n",
        "POS_CASH.NAME_CONTRACT_STATUS.value_counts()"
      ],
      "metadata": {
        "execution": {
          "iopub.status.busy": "2023-04-06T05:52:45.783638Z",
          "iopub.execute_input": "2023-04-06T05:52:45.784062Z",
          "iopub.status.idle": "2023-04-06T05:52:46.291783Z",
          "shell.execute_reply.started": "2023-04-06T05:52:45.784013Z",
          "shell.execute_reply": "2023-04-06T05:52:46.290861Z"
        },
        "trusted": true,
        "id": "YqgVxsmrD70O",
        "outputId": "d16c25da-daa1-43a6-bffb-f32e2e8b3461"
      },
      "execution_count": null,
      "outputs": [
        {
          "execution_count": 22,
          "output_type": "execute_result",
          "data": {
            "text/plain": "Active                   9151119\nCompleted                 744883\nSigned                     87260\nDemand                      7065\nReturned to the store       5461\nApproved                    4917\nAmortized debt               636\nCanceled                      15\nXNA                            2\nName: NAME_CONTRACT_STATUS, dtype: int64"
          },
          "metadata": {}
        }
      ]
    },
    {
      "cell_type": "code",
      "source": [
        "# Закодируем категориальные признаки\n",
        "\n",
        "le = LabelEncoder()\n",
        "\n",
        "POS_CASH['NAME_CONTRACT_STATUS'] = le.fit_transform(POS_CASH['NAME_CONTRACT_STATUS'].astype(str))\n",
        "\n",
        "# Группируем, подготавливаем для объединения с основной таблицей\n",
        "\n",
        "nunique_status = POS_CASH[['SK_ID_CURR', 'NAME_CONTRACT_STATUS']].groupby('SK_ID_CURR').nunique()\n",
        "nunique_status2 = POS_CASH[['SK_ID_CURR', 'NAME_CONTRACT_STATUS']].groupby('SK_ID_CURR').max()\n",
        "\n",
        "POS_CASH['NUNIQUE_STATUS'] = nunique_status['NAME_CONTRACT_STATUS']\n",
        "POS_CASH['NUNIQUE_STATUS2'] = nunique_status2['NAME_CONTRACT_STATUS']\n",
        "\n",
        "POS_CASH.drop(['SK_ID_PREV', 'NAME_CONTRACT_STATUS'], axis=1, inplace=True)"
      ],
      "metadata": {
        "execution": {
          "iopub.status.busy": "2023-04-06T05:52:48.900926Z",
          "iopub.execute_input": "2023-04-06T05:52:48.902151Z",
          "iopub.status.idle": "2023-04-06T05:52:54.761247Z",
          "shell.execute_reply.started": "2023-04-06T05:52:48.902113Z",
          "shell.execute_reply": "2023-04-06T05:52:54.759810Z"
        },
        "trusted": true,
        "id": "eAYr52JOD70O"
      },
      "execution_count": null,
      "outputs": []
    },
    {
      "cell_type": "markdown",
      "source": [
        "# **Данные по картам**"
      ],
      "metadata": {
        "id": "nUVQxpxSD70O"
      }
    },
    {
      "cell_type": "code",
      "source": [
        "# Посмотрим на credit_card\n",
        "\n",
        "credit_card.head()"
      ],
      "metadata": {
        "execution": {
          "iopub.status.busy": "2023-04-06T05:52:59.091160Z",
          "iopub.execute_input": "2023-04-06T05:52:59.091811Z",
          "iopub.status.idle": "2023-04-06T05:52:59.119330Z",
          "shell.execute_reply.started": "2023-04-06T05:52:59.091771Z",
          "shell.execute_reply": "2023-04-06T05:52:59.118460Z"
        },
        "trusted": true,
        "id": "6PZETMZnD70O",
        "outputId": "9c6ffa09-4946-44cd-fd0d-86696209bc69"
      },
      "execution_count": null,
      "outputs": [
        {
          "execution_count": 24,
          "output_type": "execute_result",
          "data": {
            "text/plain": "   SK_ID_PREV  SK_ID_CURR  MONTHS_BALANCE  AMT_BALANCE  \\\n0     2562384      378907              -6       56.970   \n1     2582071      363914              -1    63975.555   \n2     1740877      371185              -7    31815.225   \n3     1389973      337855              -4   236572.110   \n4     1891521      126868              -1   453919.455   \n\n   AMT_CREDIT_LIMIT_ACTUAL  AMT_DRAWINGS_ATM_CURRENT  AMT_DRAWINGS_CURRENT  \\\n0                   135000                       0.0                 877.5   \n1                    45000                    2250.0                2250.0   \n2                   450000                       0.0                   0.0   \n3                   225000                    2250.0                2250.0   \n4                   450000                       0.0               11547.0   \n\n   AMT_DRAWINGS_OTHER_CURRENT  AMT_DRAWINGS_POS_CURRENT  \\\n0                         0.0                     877.5   \n1                         0.0                       0.0   \n2                         0.0                       0.0   \n3                         0.0                       0.0   \n4                         0.0                   11547.0   \n\n   AMT_INST_MIN_REGULARITY  ...  AMT_RECIVABLE  AMT_TOTAL_RECEIVABLE  \\\n0                 1700.325  ...          0.000                 0.000   \n1                 2250.000  ...      64875.555             64875.555   \n2                 2250.000  ...      31460.085             31460.085   \n3                11795.760  ...     233048.970            233048.970   \n4                22924.890  ...     453919.455            453919.455   \n\n   CNT_DRAWINGS_ATM_CURRENT  CNT_DRAWINGS_CURRENT  CNT_DRAWINGS_OTHER_CURRENT  \\\n0                       0.0                     1                         0.0   \n1                       1.0                     1                         0.0   \n2                       0.0                     0                         0.0   \n3                       1.0                     1                         0.0   \n4                       0.0                     1                         0.0   \n\n   CNT_DRAWINGS_POS_CURRENT  CNT_INSTALMENT_MATURE_CUM  NAME_CONTRACT_STATUS  \\\n0                       1.0                       35.0                Active   \n1                       0.0                       69.0                Active   \n2                       0.0                       30.0                Active   \n3                       0.0                       10.0                Active   \n4                       1.0                      101.0                Active   \n\n   SK_DPD  SK_DPD_DEF  \n0       0           0  \n1       0           0  \n2       0           0  \n3       0           0  \n4       0           0  \n\n[5 rows x 23 columns]",
            "text/html": "<div>\n<style scoped>\n    .dataframe tbody tr th:only-of-type {\n        vertical-align: middle;\n    }\n\n    .dataframe tbody tr th {\n        vertical-align: top;\n    }\n\n    .dataframe thead th {\n        text-align: right;\n    }\n</style>\n<table border=\"1\" class=\"dataframe\">\n  <thead>\n    <tr style=\"text-align: right;\">\n      <th></th>\n      <th>SK_ID_PREV</th>\n      <th>SK_ID_CURR</th>\n      <th>MONTHS_BALANCE</th>\n      <th>AMT_BALANCE</th>\n      <th>AMT_CREDIT_LIMIT_ACTUAL</th>\n      <th>AMT_DRAWINGS_ATM_CURRENT</th>\n      <th>AMT_DRAWINGS_CURRENT</th>\n      <th>AMT_DRAWINGS_OTHER_CURRENT</th>\n      <th>AMT_DRAWINGS_POS_CURRENT</th>\n      <th>AMT_INST_MIN_REGULARITY</th>\n      <th>...</th>\n      <th>AMT_RECIVABLE</th>\n      <th>AMT_TOTAL_RECEIVABLE</th>\n      <th>CNT_DRAWINGS_ATM_CURRENT</th>\n      <th>CNT_DRAWINGS_CURRENT</th>\n      <th>CNT_DRAWINGS_OTHER_CURRENT</th>\n      <th>CNT_DRAWINGS_POS_CURRENT</th>\n      <th>CNT_INSTALMENT_MATURE_CUM</th>\n      <th>NAME_CONTRACT_STATUS</th>\n      <th>SK_DPD</th>\n      <th>SK_DPD_DEF</th>\n    </tr>\n  </thead>\n  <tbody>\n    <tr>\n      <th>0</th>\n      <td>2562384</td>\n      <td>378907</td>\n      <td>-6</td>\n      <td>56.970</td>\n      <td>135000</td>\n      <td>0.0</td>\n      <td>877.5</td>\n      <td>0.0</td>\n      <td>877.5</td>\n      <td>1700.325</td>\n      <td>...</td>\n      <td>0.000</td>\n      <td>0.000</td>\n      <td>0.0</td>\n      <td>1</td>\n      <td>0.0</td>\n      <td>1.0</td>\n      <td>35.0</td>\n      <td>Active</td>\n      <td>0</td>\n      <td>0</td>\n    </tr>\n    <tr>\n      <th>1</th>\n      <td>2582071</td>\n      <td>363914</td>\n      <td>-1</td>\n      <td>63975.555</td>\n      <td>45000</td>\n      <td>2250.0</td>\n      <td>2250.0</td>\n      <td>0.0</td>\n      <td>0.0</td>\n      <td>2250.000</td>\n      <td>...</td>\n      <td>64875.555</td>\n      <td>64875.555</td>\n      <td>1.0</td>\n      <td>1</td>\n      <td>0.0</td>\n      <td>0.0</td>\n      <td>69.0</td>\n      <td>Active</td>\n      <td>0</td>\n      <td>0</td>\n    </tr>\n    <tr>\n      <th>2</th>\n      <td>1740877</td>\n      <td>371185</td>\n      <td>-7</td>\n      <td>31815.225</td>\n      <td>450000</td>\n      <td>0.0</td>\n      <td>0.0</td>\n      <td>0.0</td>\n      <td>0.0</td>\n      <td>2250.000</td>\n      <td>...</td>\n      <td>31460.085</td>\n      <td>31460.085</td>\n      <td>0.0</td>\n      <td>0</td>\n      <td>0.0</td>\n      <td>0.0</td>\n      <td>30.0</td>\n      <td>Active</td>\n      <td>0</td>\n      <td>0</td>\n    </tr>\n    <tr>\n      <th>3</th>\n      <td>1389973</td>\n      <td>337855</td>\n      <td>-4</td>\n      <td>236572.110</td>\n      <td>225000</td>\n      <td>2250.0</td>\n      <td>2250.0</td>\n      <td>0.0</td>\n      <td>0.0</td>\n      <td>11795.760</td>\n      <td>...</td>\n      <td>233048.970</td>\n      <td>233048.970</td>\n      <td>1.0</td>\n      <td>1</td>\n      <td>0.0</td>\n      <td>0.0</td>\n      <td>10.0</td>\n      <td>Active</td>\n      <td>0</td>\n      <td>0</td>\n    </tr>\n    <tr>\n      <th>4</th>\n      <td>1891521</td>\n      <td>126868</td>\n      <td>-1</td>\n      <td>453919.455</td>\n      <td>450000</td>\n      <td>0.0</td>\n      <td>11547.0</td>\n      <td>0.0</td>\n      <td>11547.0</td>\n      <td>22924.890</td>\n      <td>...</td>\n      <td>453919.455</td>\n      <td>453919.455</td>\n      <td>0.0</td>\n      <td>1</td>\n      <td>0.0</td>\n      <td>1.0</td>\n      <td>101.0</td>\n      <td>Active</td>\n      <td>0</td>\n      <td>0</td>\n    </tr>\n  </tbody>\n</table>\n<p>5 rows × 23 columns</p>\n</div>"
          },
          "metadata": {}
        }
      ]
    },
    {
      "cell_type": "code",
      "source": [
        "# Закодируем категориальные признаки\n",
        "credit_card['NAME_CONTRACT_STATUS'] = le.fit_transform(credit_card['NAME_CONTRACT_STATUS'].astype(str))\n",
        "\n",
        "# Группируем, подготавливаем для объединения с основной таблицей\n",
        "\n",
        "nunique_status = credit_card[['SK_ID_CURR', 'NAME_CONTRACT_STATUS']].groupby('SK_ID_CURR').nunique()\n",
        "nunique_status2 = credit_card[['SK_ID_CURR', 'NAME_CONTRACT_STATUS']].groupby('SK_ID_CURR').max()\n",
        "\n",
        "credit_card['NUNIQUE_STATUS'] = nunique_status['NAME_CONTRACT_STATUS']\n",
        "credit_card['NUNIQUE_STATUS2'] = nunique_status2['NAME_CONTRACT_STATUS']\n",
        "\n",
        "credit_card.drop(['SK_ID_PREV', 'NAME_CONTRACT_STATUS'], axis=1, inplace=True)"
      ],
      "metadata": {
        "execution": {
          "iopub.status.busy": "2023-04-06T05:53:02.456948Z",
          "iopub.execute_input": "2023-04-06T05:53:02.457651Z",
          "iopub.status.idle": "2023-04-06T05:53:04.590003Z",
          "shell.execute_reply.started": "2023-04-06T05:53:02.457609Z",
          "shell.execute_reply": "2023-04-06T05:53:04.588905Z"
        },
        "trusted": true,
        "id": "I-hkur0VD70O"
      },
      "execution_count": null,
      "outputs": []
    },
    {
      "cell_type": "markdown",
      "source": [
        "# **Данные по платежам**"
      ],
      "metadata": {
        "id": "BvKQHrFwD70O"
      }
    },
    {
      "cell_type": "code",
      "source": [
        "# Посмотрим на payments\n",
        "\n",
        "payments.head()"
      ],
      "metadata": {
        "execution": {
          "iopub.status.busy": "2023-04-06T05:53:19.428194Z",
          "iopub.execute_input": "2023-04-06T05:53:19.428601Z",
          "iopub.status.idle": "2023-04-06T05:53:19.446234Z",
          "shell.execute_reply.started": "2023-04-06T05:53:19.428570Z",
          "shell.execute_reply": "2023-04-06T05:53:19.444193Z"
        },
        "trusted": true,
        "id": "hC4AeWbxD70P",
        "outputId": "beedd0c0-c3a1-4cb6-ccd4-a53dbad87d66"
      },
      "execution_count": null,
      "outputs": [
        {
          "execution_count": 26,
          "output_type": "execute_result",
          "data": {
            "text/plain": "   SK_ID_PREV  SK_ID_CURR  NUM_INSTALMENT_VERSION  NUM_INSTALMENT_NUMBER  \\\n0     1054186      161674                     1.0                      6   \n1     1330831      151639                     0.0                     34   \n2     2085231      193053                     2.0                      1   \n3     2452527      199697                     1.0                      3   \n4     2714724      167756                     1.0                      2   \n\n   DAYS_INSTALMENT  DAYS_ENTRY_PAYMENT  AMT_INSTALMENT  AMT_PAYMENT  \n0          -1180.0             -1187.0        6948.360     6948.360  \n1          -2156.0             -2156.0        1716.525     1716.525  \n2            -63.0               -63.0       25425.000    25425.000  \n3          -2418.0             -2426.0       24350.130    24350.130  \n4          -1383.0             -1366.0        2165.040     2160.585  ",
            "text/html": "<div>\n<style scoped>\n    .dataframe tbody tr th:only-of-type {\n        vertical-align: middle;\n    }\n\n    .dataframe tbody tr th {\n        vertical-align: top;\n    }\n\n    .dataframe thead th {\n        text-align: right;\n    }\n</style>\n<table border=\"1\" class=\"dataframe\">\n  <thead>\n    <tr style=\"text-align: right;\">\n      <th></th>\n      <th>SK_ID_PREV</th>\n      <th>SK_ID_CURR</th>\n      <th>NUM_INSTALMENT_VERSION</th>\n      <th>NUM_INSTALMENT_NUMBER</th>\n      <th>DAYS_INSTALMENT</th>\n      <th>DAYS_ENTRY_PAYMENT</th>\n      <th>AMT_INSTALMENT</th>\n      <th>AMT_PAYMENT</th>\n    </tr>\n  </thead>\n  <tbody>\n    <tr>\n      <th>0</th>\n      <td>1054186</td>\n      <td>161674</td>\n      <td>1.0</td>\n      <td>6</td>\n      <td>-1180.0</td>\n      <td>-1187.0</td>\n      <td>6948.360</td>\n      <td>6948.360</td>\n    </tr>\n    <tr>\n      <th>1</th>\n      <td>1330831</td>\n      <td>151639</td>\n      <td>0.0</td>\n      <td>34</td>\n      <td>-2156.0</td>\n      <td>-2156.0</td>\n      <td>1716.525</td>\n      <td>1716.525</td>\n    </tr>\n    <tr>\n      <th>2</th>\n      <td>2085231</td>\n      <td>193053</td>\n      <td>2.0</td>\n      <td>1</td>\n      <td>-63.0</td>\n      <td>-63.0</td>\n      <td>25425.000</td>\n      <td>25425.000</td>\n    </tr>\n    <tr>\n      <th>3</th>\n      <td>2452527</td>\n      <td>199697</td>\n      <td>1.0</td>\n      <td>3</td>\n      <td>-2418.0</td>\n      <td>-2426.0</td>\n      <td>24350.130</td>\n      <td>24350.130</td>\n    </tr>\n    <tr>\n      <th>4</th>\n      <td>2714724</td>\n      <td>167756</td>\n      <td>1.0</td>\n      <td>2</td>\n      <td>-1383.0</td>\n      <td>-1366.0</td>\n      <td>2165.040</td>\n      <td>2160.585</td>\n    </tr>\n  </tbody>\n</table>\n</div>"
          },
          "metadata": {}
        }
      ]
    },
    {
      "cell_type": "code",
      "source": [
        "# Создадим три таблицы (средние, минимальные и максимальные значения)\n",
        "\n",
        "avg_payments = payments.groupby('SK_ID_CURR').mean()\n",
        "avg_payments2 = payments.groupby('SK_ID_CURR').max()\n",
        "avg_payments3 = payments.groupby('SK_ID_CURR').min()\n",
        "\n",
        "del avg_payments['SK_ID_PREV']"
      ],
      "metadata": {
        "execution": {
          "iopub.status.busy": "2023-04-06T05:53:23.018264Z",
          "iopub.execute_input": "2023-04-06T05:53:23.018731Z",
          "iopub.status.idle": "2023-04-06T05:53:26.228553Z",
          "shell.execute_reply.started": "2023-04-06T05:53:23.018690Z",
          "shell.execute_reply": "2023-04-06T05:53:26.227538Z"
        },
        "trusted": true,
        "id": "zzAFS8QOD70P"
      },
      "execution_count": null,
      "outputs": []
    },
    {
      "cell_type": "code",
      "source": [
        "# Удаляем payments\n",
        "\n",
        "del payments\n",
        "\n",
        "gc.collect()"
      ],
      "metadata": {
        "execution": {
          "iopub.status.busy": "2023-04-06T05:53:31.132205Z",
          "iopub.execute_input": "2023-04-06T05:53:31.133780Z",
          "iopub.status.idle": "2023-04-06T05:53:31.360750Z",
          "shell.execute_reply.started": "2023-04-06T05:53:31.133725Z",
          "shell.execute_reply": "2023-04-06T05:53:31.359078Z"
        },
        "trusted": true,
        "id": "x96_F9FBD70P",
        "outputId": "61e304f6-0c18-42d6-c258-01ccce199e8f"
      },
      "execution_count": null,
      "outputs": [
        {
          "execution_count": 28,
          "output_type": "execute_result",
          "data": {
            "text/plain": "115"
          },
          "metadata": {}
        }
      ]
    },
    {
      "cell_type": "markdown",
      "source": [
        "# **Объединение таблиц**"
      ],
      "metadata": {
        "id": "qt6iquOGD70P"
      }
    },
    {
      "cell_type": "code",
      "source": [
        "# Объединяем все таблицы в application\n",
        "\n",
        "application = application.merge(right=avg_prev.reset_index(), how='left', on='SK_ID_CURR')\n",
        "application = application.merge(right=avg_buro.reset_index(), how='left', on='SK_ID_CURR')\n",
        "application = application.merge(POS_CASH.groupby('SK_ID_CURR').mean().reset_index(), how='left', on='SK_ID_CURR')\n",
        "application = application.merge(credit_card.groupby('SK_ID_CURR').mean().reset_index(), how='left', on='SK_ID_CURR')\n",
        "application = application.merge(right=avg_payments.reset_index(), how='left', on='SK_ID_CURR')\n",
        "application = application.merge(right=avg_payments2.reset_index(), how='left', on='SK_ID_CURR')\n",
        "application = application.merge(right=avg_payments3.reset_index(), how='left', on='SK_ID_CURR')"
      ],
      "metadata": {
        "execution": {
          "iopub.status.busy": "2023-04-06T05:53:34.991357Z",
          "iopub.execute_input": "2023-04-06T05:53:34.991760Z",
          "iopub.status.idle": "2023-04-06T05:53:43.482214Z",
          "shell.execute_reply.started": "2023-04-06T05:53:34.991729Z",
          "shell.execute_reply": "2023-04-06T05:53:43.480827Z"
        },
        "trusted": true,
        "id": "0DIYMLEMD70P"
      },
      "execution_count": null,
      "outputs": []
    },
    {
      "cell_type": "code",
      "source": [
        "# Удаляем лишние таблицы\n",
        "\n",
        "del avg_prev, avg_buro, POS_CASH, credit_card, avg_payments, avg_payments2, avg_payments3\n",
        "\n",
        "gc.collect()"
      ],
      "metadata": {
        "execution": {
          "iopub.status.busy": "2023-04-06T05:54:12.896807Z",
          "iopub.execute_input": "2023-04-06T05:54:12.897242Z",
          "iopub.status.idle": "2023-04-06T05:54:13.122903Z",
          "shell.execute_reply.started": "2023-04-06T05:54:12.897206Z",
          "shell.execute_reply": "2023-04-06T05:54:13.121629Z"
        },
        "trusted": true,
        "id": "2oxo87KdD70Q",
        "outputId": "4c8a3314-a0e0-4b58-e86e-beb51a9a5b36"
      },
      "execution_count": null,
      "outputs": [
        {
          "execution_count": 30,
          "output_type": "execute_result",
          "data": {
            "text/plain": "23"
          },
          "metadata": {}
        }
      ]
    },
    {
      "cell_type": "code",
      "source": [
        "# Проверяем\n",
        "\n",
        "application.shape"
      ],
      "metadata": {
        "execution": {
          "iopub.status.busy": "2023-04-06T05:54:16.153452Z",
          "iopub.execute_input": "2023-04-06T05:54:16.153840Z",
          "iopub.status.idle": "2023-04-06T05:54:16.162115Z",
          "shell.execute_reply.started": "2023-04-06T05:54:16.153806Z",
          "shell.execute_reply": "2023-04-06T05:54:16.160239Z"
        },
        "trusted": true,
        "id": "KY_vOaymD70Q",
        "outputId": "591cb850-c785-4f64-ccd6-0593553ab77d"
      },
      "execution_count": null,
      "outputs": [
        {
          "execution_count": 31,
          "output_type": "execute_result",
          "data": {
            "text/plain": "(356255, 524)"
          },
          "metadata": {}
        }
      ]
    },
    {
      "cell_type": "code",
      "source": [
        "# Сохраняем результат\n",
        "\n",
        "application.to_csv(\"application_aft_merge.csv\", index=False)"
      ],
      "metadata": {
        "execution": {
          "iopub.status.busy": "2023-04-06T05:54:19.284149Z",
          "iopub.execute_input": "2023-04-06T05:54:19.284712Z",
          "iopub.status.idle": "2023-04-06T05:55:46.304225Z",
          "shell.execute_reply.started": "2023-04-06T05:54:19.284680Z",
          "shell.execute_reply": "2023-04-06T05:55:46.303029Z"
        },
        "trusted": true,
        "id": "5s90_ouID70Q"
      },
      "execution_count": null,
      "outputs": []
    },
    {
      "cell_type": "markdown",
      "source": [
        "# **LightGBM (preparation)**"
      ],
      "metadata": {
        "id": "1FQoarQjD70Q"
      }
    },
    {
      "cell_type": "code",
      "source": [
        "import re\n",
        "\n",
        "# Составляем регулярное выражение для поиска JSON символов\n",
        "json_pattern = re.compile(r'[\\{\\}\\[\\]\\\"\\,\\:\\/\\+\\(\\)]')\n",
        "\n",
        "# Проходимся по всем названиям столбцов и удаляем JSON символы\n",
        "new_columns = []\n",
        "for col in application.columns:\n",
        "    new_col = json_pattern.sub('_', col)\n",
        "    new_columns.append(new_col)\n",
        "\n",
        "# Заменяем названия столбцов в DataFrame на обновленные названия без JSON символов\n",
        "application.columns = new_columns"
      ],
      "metadata": {
        "execution": {
          "iopub.status.busy": "2023-04-06T05:56:48.996886Z",
          "iopub.execute_input": "2023-04-06T05:56:48.998328Z",
          "iopub.status.idle": "2023-04-06T05:56:49.006110Z",
          "shell.execute_reply.started": "2023-04-06T05:56:48.998252Z",
          "shell.execute_reply": "2023-04-06T05:56:49.004799Z"
        },
        "trusted": true,
        "id": "RmLk7fp2D70Q"
      },
      "execution_count": null,
      "outputs": []
    },
    {
      "cell_type": "code",
      "source": [
        "# Удаляем таргет из признаков\n",
        "features_to_remove = [\"TARGET\", \"train\", \"SK_ID_CURR\"]\n",
        "\n",
        "# Удаляем признаки без отклонений\n",
        "features_to_remove = features_to_remove + list(application.std()[application.std() == 0].index)\n",
        "\n",
        "features = application.drop(features_to_remove, axis = 1).columns"
      ],
      "metadata": {
        "execution": {
          "iopub.status.busy": "2023-04-06T05:56:55.554792Z",
          "iopub.execute_input": "2023-04-06T05:56:55.555164Z",
          "iopub.status.idle": "2023-04-06T05:56:59.008493Z",
          "shell.execute_reply.started": "2023-04-06T05:56:55.555129Z",
          "shell.execute_reply": "2023-04-06T05:56:59.006876Z"
        },
        "trusted": true,
        "id": "vvEI6uqpD70Q"
      },
      "execution_count": null,
      "outputs": []
    },
    {
      "cell_type": "code",
      "source": [
        "# Разделяем наборы данных для обучения и тестирования\n",
        "\n",
        "application_train = application[application[\"train\"] == 1]\n",
        "application_test = application[application[\"train\"] == 0]"
      ],
      "metadata": {
        "execution": {
          "iopub.status.busy": "2023-04-06T05:57:05.390079Z",
          "iopub.execute_input": "2023-04-06T05:57:05.390452Z",
          "iopub.status.idle": "2023-04-06T05:57:05.644018Z",
          "shell.execute_reply.started": "2023-04-06T05:57:05.390419Z",
          "shell.execute_reply": "2023-04-06T05:57:05.642245Z"
        },
        "trusted": true,
        "id": "kGrQaHQ4D70R"
      },
      "execution_count": null,
      "outputs": []
    },
    {
      "cell_type": "code",
      "source": [
        "# Удаляем application dataframe из памяти\n",
        "\n",
        "del application\n",
        "\n",
        "gc.collect()"
      ],
      "metadata": {
        "execution": {
          "iopub.status.busy": "2023-04-06T05:57:29.174175Z",
          "iopub.execute_input": "2023-04-06T05:57:29.174796Z",
          "iopub.status.idle": "2023-04-06T05:57:29.406402Z",
          "shell.execute_reply.started": "2023-04-06T05:57:29.174753Z",
          "shell.execute_reply": "2023-04-06T05:57:29.404377Z"
        },
        "trusted": true,
        "id": "1sbYb3zHD70R",
        "outputId": "23efacb0-c6db-45d0-a403-ed151acfecb5"
      },
      "execution_count": null,
      "outputs": [
        {
          "execution_count": 36,
          "output_type": "execute_result",
          "data": {
            "text/plain": "46"
          },
          "metadata": {}
        }
      ]
    },
    {
      "cell_type": "code",
      "source": [
        "# Функция для отображения использования памяти основными наборами данных\n",
        "\n",
        "def show_mem_usage():\n",
        "    '''Displays memory usage from inspection\n",
        "    of global variables in this notebook'''\n",
        "    gl = sys._getframe(1).f_globals\n",
        "    vars= {}\n",
        "    for k,v in list(gl.items()):\n",
        "        # для pandas dataframes\n",
        "        if hasattr(v, 'memory_usage'):\n",
        "            mem = v.memory_usage(deep=True)\n",
        "            if not np.isscalar(mem):\n",
        "                mem = mem.sum()\n",
        "            vars.setdefault(id(v),[mem]).append(k)\n",
        "        vars.setdefault(id(v),[sys.getsizeof(v)]).append(k)\n",
        "    total = 0\n",
        "    for k,(value,*names) in vars.items():\n",
        "        if value>1e6:\n",
        "            print(names,\"%.2fMB\"%(value/1e6))\n",
        "        total += value\n",
        "    print(\"%.2fMB\"%(total/1e6))\n",
        "\n",
        "show_mem_usage()"
      ],
      "metadata": {
        "execution": {
          "iopub.status.busy": "2023-04-06T05:57:32.878787Z",
          "iopub.execute_input": "2023-04-06T05:57:32.879197Z",
          "iopub.status.idle": "2023-04-06T05:57:32.982419Z",
          "shell.execute_reply.started": "2023-04-06T05:57:32.879164Z",
          "shell.execute_reply": "2023-04-06T05:57:32.980811Z"
        },
        "trusted": true,
        "id": "XiuR-wjgD70R",
        "outputId": "bf4fe31c-4627-43c9-83ff-547bd598725d"
      },
      "execution_count": null,
      "outputs": [
        {
          "name": "stdout",
          "text": "['buro_grouped_size', 'buro_grouped_size'] 13.08MB\n['buro_grouped_max', 'buro_grouped_max'] 13.08MB\n['buro_grouped_min', 'buro_grouped_min'] 13.08MB\n['buro_counts', 'buro_counts'] 28.82MB\n['buro_counts_unstacked', 'buro_counts_unstacked'] 78.47MB\n['cnt_prev', 'cnt_prev'] 5.42MB\n['nunique_status', 'nunique_status'] 5.88MB\n['nunique_status2', 'nunique_status2'] 5.88MB\n['application_train', 'application_train'] 1092.28MB\n['application_test', 'application_test'] 173.14MB\n1429.24MB\n",
          "output_type": "stream"
        }
      ]
    },
    {
      "cell_type": "markdown",
      "source": [
        "# **LightGBM (modeling)**"
      ],
      "metadata": {
        "id": "8oGrNFsED70R"
      }
    },
    {
      "cell_type": "code",
      "source": [
        "# Параметры LightGBM по умолчанию\n",
        "\n",
        "estimator_param = {}\n",
        "estimator_param[\"boosting_type\"]=\"gbdt\"\n",
        "estimator_param[\"num_leaves\"]=1000\n",
        "estimator_param[\"max_depth\"]=5\n",
        "estimator_param[\"learning_rate\"]=0.01\n",
        "estimator_param[\"n_estimators\"]=4500\n",
        "estimator_param[\"subsample_for_bin\"]=200000\n",
        "estimator_param[\"objective\"]=\"binary\"\n",
        "estimator_param[\"class_weight\"]=None\n",
        "estimator_param[\"min_split_gain\"]=0.5\n",
        "estimator_param[\"min_child_weight\"]=0.001\n",
        "estimator_param[\"min_child_samples\"]=45\n",
        "estimator_param[\"subsample\"]=0.8\n",
        "estimator_param[\"subsample_freq\"]=1.0\n",
        "estimator_param[\"bagging_freq\"]=1\n",
        "estimator_param[\"colsample_bytree\"]=0.6\n",
        "estimator_param[\"reg_alpha\"]=15.0\n",
        "estimator_param[\"reg_lambda\"]=20.0\n",
        "estimator_param[\"random_state\"]=2\n",
        "estimator_param[\"n_jobs\"]=7\n",
        "estimator_param[\"silent\"]=True\n",
        "estimator_param[\"importance_type\"]=\"split\""
      ],
      "metadata": {
        "execution": {
          "iopub.status.busy": "2023-04-06T05:57:42.652614Z",
          "iopub.execute_input": "2023-04-06T05:57:42.653347Z",
          "iopub.status.idle": "2023-04-06T05:57:42.663258Z",
          "shell.execute_reply.started": "2023-04-06T05:57:42.653296Z",
          "shell.execute_reply": "2023-04-06T05:57:42.661578Z"
        },
        "trusted": true,
        "id": "kZEZa-wUD70R"
      },
      "execution_count": null,
      "outputs": []
    },
    {
      "cell_type": "code",
      "source": [
        "# Функция поиска grid search для алгоритма LGBM\n",
        "\n",
        "def GridSearch_lgb(X, y, param_grid, cv, predict = False):\n",
        "    combinations= [[]]\n",
        "    params = []\n",
        "    for key, vals in param_grid.items():\n",
        "        combinations = [i+[j] for i in combinations for j in vals]\n",
        "        params.append(key)\n",
        "    for comb in combinations:\n",
        "        # Определение параметров, используемых для итерации gridsearch\n",
        "        for index, param in enumerate(params):\n",
        "            print(param, comb[index])\n",
        "            estimator_param[param] = comb[index]\n",
        "        \n",
        "        # Кросс валидация\n",
        "        kfold = KFold(n_splits=cv, shuffle=True, random_state = 2)\n",
        "        roc_auc_val_list = []\n",
        "        roc_auc_train_list = []\n",
        "        fpr_train_list = []\n",
        "        tpr_train_list = []\n",
        "        fpr_val_list = []\n",
        "        tpr_val_list = []\n",
        "        best_ntree_list = []\n",
        "        predictions_list = []\n",
        "        counter = 0\n",
        "        df_train = pd.DataFrame(index = X.index)\n",
        "        df_val = pd.DataFrame(index = X.index)\n",
        "        cv_predict = pd.DataFrame(index = X.index)\n",
        "        cv_predict[\"predict_proba\"] = np.NaN\n",
        "        for train_index, val_index in kfold.split(X, y):\n",
        "            counter += 1\n",
        "            df_train[str(counter)] = np.NaN\n",
        "            df_val[str(counter)] = np.NaN\n",
        "            # Определение обучающих и валидационных наборов для Kfold\n",
        "            train_X = X.iloc[train_index]\n",
        "            train_y = y.iloc[train_index]\n",
        "            val_X = X.iloc[val_index]\n",
        "            val_y = y.iloc[val_index]\n",
        "            # Определение модели\n",
        "            lgb = LGBMClassifier(boosting_type=estimator_param[\"boosting_type\"],\n",
        "                                 num_leaves=estimator_param[\"num_leaves\"], \n",
        "                                 max_depth=estimator_param[\"max_depth\"],\n",
        "                                 learning_rate=estimator_param[\"learning_rate\"],\n",
        "                                 n_estimators=estimator_param[\"n_estimators\"], \n",
        "                                 subsample_for_bin=estimator_param[\"subsample_for_bin\"],\n",
        "                                 objective=estimator_param[\"objective\"],\n",
        "                                 class_weight=estimator_param[\"class_weight\"],\n",
        "                                 min_split_gain=estimator_param[\"min_split_gain\"],\n",
        "                                 min_child_weight=estimator_param[\"min_child_weight\"], \n",
        "                                 min_child_samples=estimator_param[\"min_child_samples\"],\n",
        "                                 subsample=estimator_param[\"subsample\"],\n",
        "                                 subsample_freq=estimator_param[\"subsample_freq\"],\n",
        "                                 bagging_freq = estimator_param[\"bagging_freq\"],\n",
        "                                 colsample_bytree=estimator_param[\"colsample_bytree\"],\n",
        "                                 reg_alpha=estimator_param[\"reg_alpha\"],\n",
        "                                 reg_lambda=estimator_param[\"reg_lambda\"],\n",
        "                                 random_state=estimator_param[\"random_state\"],\n",
        "                                 n_jobs=estimator_param[\"n_jobs\"],\n",
        "                                 silent=estimator_param[\"silent\"], \n",
        "                                 importance_type=estimator_param[\"importance_type\"]\n",
        "                                )\n",
        "            \n",
        "            lgb.fit(train_X, train_y, early_stopping_rounds=100, eval_set = [(val_X, val_y)], eval_metric='auc', verbose =0)\n",
        "            predictions_train = lgb.predict_proba(train_X, num_iteration = lgb.best_iteration_)\n",
        "            predictions_val = lgb.predict_proba(val_X, num_iteration = lgb.best_iteration_)\n",
        "            if predict == True:\n",
        "                cv_predict[\"predict_proba\"].iloc[val_index] = predictions_val[:,1]\n",
        "            fpr_train, tpr_train, threshold = roc_curve(train_y, predictions_train[:,1])\n",
        "            fpr_val, tpr_val, threshold = roc_curve(val_y, predictions_val[:,1])\n",
        "            roc_auc_train = auc(fpr_train, tpr_train)\n",
        "            roc_auc_val = auc(fpr_val, tpr_val)\n",
        "            print(\"CV %0.1i : ROC AUC: %0.3f (n_trees: %0.1i)\" % (counter, roc_auc_val, lgb.best_iteration_))\n",
        "            roc_auc_train_list.append(roc_auc_train)\n",
        "            roc_auc_val_list.append(roc_auc_val)\n",
        "            best_ntree_list.append(round(np.mean(lgb.best_iteration_)))\n",
        "            fpr_train_list.append(fpr_train)\n",
        "            tpr_train_list.append(tpr_train)\n",
        "            fpr_val_list.append(fpr_val)\n",
        "            tpr_val_list.append(tpr_val)\n",
        "\n",
        "        avg_auc_train = np.mean(roc_auc_train_list)\n",
        "        avg_auc_val = np.mean(roc_auc_val_list)\n",
        "        std_auc_val = np.std(roc_auc_val_list)\n",
        "        best_nb_iter = round(np.mean(best_ntree_list))\n",
        "        print(\"ROC AUC: %0.4f +/- %0.4f (n_trees: %0.1i)\" % (avg_auc_val, std_auc_val * 2, best_nb_iter))\n",
        "                \n",
        "        fig, ax = plt.subplots(figsize=(10,9))\n",
        "        plt.title(\"Receiver operating characteristic for training and validation data with Gradient Boosting model\", y = 1.03)\n",
        "        for iteration in range(cv):\n",
        "            if iteration == 0:\n",
        "                ax.plot(fpr_train_list[iteration], tpr_train_list[iteration], label = 'Train data (AUC = %0.3f)' % avg_auc_train, color = pal.as_hex()[0])\n",
        "                ax.plot(fpr_val_list[iteration], tpr_val_list[iteration], label = 'Validation data (AUC = %0.3f)' % avg_auc_val, color = pal.as_hex()[1])\n",
        "            else:\n",
        "                ax.plot(fpr_train_list[iteration], tpr_train_list[iteration] , color = pal.as_hex()[0])\n",
        "                ax.plot(fpr_val_list[iteration], tpr_val_list[iteration], color = pal.as_hex()[1])\n",
        "        ax.plot([0, 1], [0, 1], dashes = (6,4), color = pal.as_hex()[2], label = \"Random decision (AUC = 0.500)\")\n",
        "        plt.ylabel('True Positive Rate')\n",
        "        plt.xlabel('False Positive Rate')\n",
        "        plt.xlim(0,1)\n",
        "        plt.ylim(0,1)\n",
        "        sns.despine()\n",
        "        plt.legend(loc = 'lower right')\n",
        "        \n",
        "        if predict == True:\n",
        "            return cv_predict"
      ],
      "metadata": {
        "execution": {
          "iopub.status.busy": "2023-04-06T05:58:13.119851Z",
          "iopub.execute_input": "2023-04-06T05:58:13.120262Z",
          "iopub.status.idle": "2023-04-06T05:58:13.146168Z",
          "shell.execute_reply.started": "2023-04-06T05:58:13.120229Z",
          "shell.execute_reply": "2023-04-06T05:58:13.144447Z"
        },
        "trusted": true,
        "id": "z2YUJI1-D70R"
      },
      "execution_count": null,
      "outputs": []
    },
    {
      "cell_type": "code",
      "source": [
        "# Оптимизированные гиперпараметры, полученные с помощью Grid Search\n",
        "\n",
        "param_grid = {}\n",
        "param_grid[\"max_depth\"] = [5]\n",
        "param_grid[\"min_child_samples\"] = [45]\n",
        "param_grid[\"subsample\"] = [1.0]\n",
        "param_grid[\"subsample_freq\"]=[1.0]\n",
        "param_grid[\"colsample_bytree\"]=[0.6]\n",
        "param_grid[\"reg_alpha\"] = [15]\n",
        "param_grid[\"reg_lambda\"] = [20]\n",
        "param_grid[\"learning_rate\"] = [0.01]"
      ],
      "metadata": {
        "execution": {
          "iopub.status.busy": "2023-04-06T05:58:17.631560Z",
          "iopub.execute_input": "2023-04-06T05:58:17.631966Z",
          "iopub.status.idle": "2023-04-06T05:58:17.639775Z",
          "shell.execute_reply.started": "2023-04-06T05:58:17.631927Z",
          "shell.execute_reply": "2023-04-06T05:58:17.638265Z"
        },
        "trusted": true,
        "id": "teLS2vx1D70S"
      },
      "execution_count": null,
      "outputs": []
    },
    {
      "cell_type": "code",
      "source": [
        "# Прогноз кросс валидации с оптимизированными гиперпараметрами\n",
        "\n",
        "predict_lgb = GridSearch_lgb(\n",
        "    application_train[features],\n",
        "    application_train[\"TARGET\"],\n",
        "    param_grid,\n",
        "    cv = 5,\n",
        "    predict = True\n",
        ")"
      ],
      "metadata": {
        "id": "Bu2j2Z4pD70S"
      },
      "execution_count": null,
      "outputs": []
    },
    {
      "cell_type": "code",
      "source": [
        "# Определение финальной модели LightGBM\n",
        "\n",
        "estimator_param[\"n_estimators\"] = 4500\n",
        "\n",
        "lgb = LGBMClassifier(\n",
        "    boosting_type=estimator_param[\"boosting_type\"],\n",
        "    num_leaves=estimator_param[\"num_leaves\"], \n",
        "    max_depth=estimator_param[\"max_depth\"],\n",
        "    learning_rate=estimator_param[\"learning_rate\"],\n",
        "    n_estimators=estimator_param[\"n_estimators\"], \n",
        "    subsample_for_bin=estimator_param[\"subsample_for_bin\"],\n",
        "    objective=estimator_param[\"objective\"],\n",
        "    class_weight=estimator_param[\"class_weight\"],\n",
        "    min_split_gain=estimator_param[\"min_split_gain\"],\n",
        "    min_child_weight=estimator_param[\"min_child_weight\"], \n",
        "    min_child_samples=estimator_param[\"min_child_samples\"],\n",
        "    subsample=estimator_param[\"subsample\"],\n",
        "    subsample_freq=estimator_param[\"subsample_freq\"],\n",
        "    bagging_freq = estimator_param[\"bagging_freq\"],\n",
        "    colsample_bytree=estimator_param[\"colsample_bytree\"],\n",
        "    reg_alpha=estimator_param[\"reg_alpha\"],\n",
        "    reg_lambda=estimator_param[\"reg_lambda\"],\n",
        "    random_state=estimator_param[\"random_state\"],\n",
        "    n_jobs=estimator_param[\"n_jobs\"],\n",
        "    silent=estimator_param[\"silent\"], \n",
        "    importance_type=estimator_param[\"importance_type\"]\n",
        ")"
      ],
      "metadata": {
        "execution": {
          "iopub.status.busy": "2023-04-06T05:58:21.674606Z",
          "iopub.execute_input": "2023-04-06T05:58:21.675030Z",
          "iopub.status.idle": "2023-04-06T05:58:21.683149Z",
          "shell.execute_reply.started": "2023-04-06T05:58:21.674956Z",
          "shell.execute_reply": "2023-04-06T05:58:21.682057Z"
        },
        "trusted": true,
        "id": "XAKYHW76D70S"
      },
      "execution_count": null,
      "outputs": []
    },
    {
      "cell_type": "code",
      "source": [
        "# Обучение финальной модели LightGBM\n",
        "\n",
        "lgb.fit(application_train[features], application_train[\"TARGET\"])"
      ],
      "metadata": {
        "execution": {
          "iopub.status.busy": "2023-04-06T05:58:25.371727Z",
          "iopub.execute_input": "2023-04-06T05:58:25.372343Z",
          "iopub.status.idle": "2023-04-06T06:14:14.685886Z",
          "shell.execute_reply.started": "2023-04-06T05:58:25.372298Z",
          "shell.execute_reply": "2023-04-06T06:14:14.684654Z"
        },
        "trusted": true,
        "id": "mQEhQ-cxD70S",
        "outputId": "1c5d9796-6ea7-40c2-c1e5-266a4b4ba0f7"
      },
      "execution_count": null,
      "outputs": [
        {
          "name": "stderr",
          "text": "/opt/conda/lib/python3.7/site-packages/lightgbm/sklearn.py:598: UserWarning: 'silent' argument is deprecated and will be removed in a future release of LightGBM. Pass 'verbose' parameter via keyword arguments instead.\n  _log_warning(\"'silent' argument is deprecated and will be removed in a future release of LightGBM. \"\n",
          "output_type": "stream"
        },
        {
          "name": "stdout",
          "text": "[LightGBM] [Warning] bagging_freq is set=1, subsample_freq=1.0 will be ignored. Current value: bagging_freq=1\n",
          "output_type": "stream"
        },
        {
          "execution_count": 42,
          "output_type": "execute_result",
          "data": {
            "text/plain": "LGBMClassifier(bagging_freq=1, colsample_bytree=0.6, learning_rate=0.01,\n               max_depth=5, min_child_samples=45, min_split_gain=0.5,\n               n_estimators=4500, n_jobs=7, num_leaves=1000, objective='binary',\n               random_state=2, reg_alpha=15.0, reg_lambda=20.0, silent=True,\n               subsample=0.8, subsample_freq=1.0)"
          },
          "metadata": {}
        }
      ]
    },
    {
      "cell_type": "code",
      "source": [
        "# Получаем важность признаков\n",
        "importance = lgb.feature_importances_\n",
        "sorted_idx = np.argsort(importance)[::-1]\n",
        "important_features = [features[idx] for idx in sorted_idx[:20]]\n",
        "\n",
        "# Выводим график важности признаков\n",
        "plt.figure(figsize=(10, 6))\n",
        "plt.barh(range(len(important_features)), importance[sorted_idx[:20]][::-1])\n",
        "plt.yticks(range(len(important_features)), important_features[::-1])\n",
        "\n",
        "plt.xlabel(\"Importance\")\n",
        "plt.ylabel(\"Features\")\n",
        "\n",
        "plt.title(\"Feature Importance (Top 20)\")\n",
        "\n",
        "plt.show()"
      ],
      "metadata": {
        "execution": {
          "iopub.status.busy": "2023-04-06T06:25:10.589875Z",
          "iopub.execute_input": "2023-04-06T06:25:10.591383Z",
          "iopub.status.idle": "2023-04-06T06:25:10.914467Z",
          "shell.execute_reply.started": "2023-04-06T06:25:10.591340Z",
          "shell.execute_reply": "2023-04-06T06:25:10.912919Z"
        },
        "trusted": true,
        "id": "oAZMIzaOD70S",
        "outputId": "b6f924b6-b86b-445a-fdc6-eeb3bc7c048e"
      },
      "execution_count": null,
      "outputs": [
        {
          "output_type": "display_data",
          "data": {
            "text/plain": "<Figure size 1000x600 with 1 Axes>",
            "image/png": "[encoded data removed]"
          },
          "metadata": {}
        }
      ]
    },
    {
      "cell_type": "code",
      "source": [
        "# Предсказание на обучающих данных с использованием финальной модели LightGBM\n",
        "\n",
        "predictions_lgb_train = lgb.predict_proba(application_train[features])[:,1]\n",
        "\n",
        "print(f'TRAIN: ROC-AUC = {roc_auc_score(application_train[\"TARGET\"], predictions_lgb_train)}')"
      ],
      "metadata": {
        "execution": {
          "iopub.status.busy": "2023-04-06T06:25:37.399659Z",
          "iopub.execute_input": "2023-04-06T06:25:37.400085Z",
          "iopub.status.idle": "2023-04-06T06:26:23.605316Z",
          "shell.execute_reply.started": "2023-04-06T06:25:37.400046Z",
          "shell.execute_reply": "2023-04-06T06:26:23.603897Z"
        },
        "trusted": true,
        "id": "nFBRmdIfD70T",
        "outputId": "d029616a-d958-4b56-8bea-035516eb6f09"
      },
      "execution_count": null,
      "outputs": [
        {
          "name": "stdout",
          "text": "TRAIN: ROC-AUC = 0.8523350893196547\n",
          "output_type": "stream"
        }
      ]
    },
    {
      "cell_type": "code",
      "source": [
        "# Предсказание на тестовых данных с использованием финальной модели LightGBM\n",
        "\n",
        "predictions_lgb_test = lgb.predict_proba(application_test[features])[:,1]"
      ],
      "metadata": {
        "execution": {
          "iopub.status.busy": "2023-04-05T22:31:18.820850Z",
          "iopub.execute_input": "2023-04-05T22:31:18.821309Z",
          "iopub.status.idle": "2023-04-05T22:31:29.301076Z",
          "shell.execute_reply.started": "2023-04-05T22:31:18.821241Z",
          "shell.execute_reply": "2023-04-05T22:31:29.299830Z"
        },
        "trusted": true,
        "id": "qWl-9ADiD70T"
      },
      "execution_count": null,
      "outputs": []
    },
    {
      "cell_type": "code",
      "source": [
        "# Запись предсказаний в файл отправки\n",
        "\n",
        "predictions_id = application_test[\"SK_ID_CURR\"]\n",
        "\n",
        "submission_df = {\n",
        "    \"SK_ID_CURR\": predictions_id,\n",
        "    \"TARGET\": predictions_lgb_test\n",
        "}\n",
        "submission = pd.DataFrame(submission_df)\n",
        "\n",
        "submission.to_csv(\"submission_lgb_6.csv\", index=False)"
      ],
      "metadata": {
        "execution": {
          "iopub.status.busy": "2023-04-05T22:31:57.808372Z",
          "iopub.execute_input": "2023-04-05T22:31:57.808795Z",
          "iopub.status.idle": "2023-04-05T22:31:57.936674Z",
          "shell.execute_reply.started": "2023-04-05T22:31:57.808758Z",
          "shell.execute_reply": "2023-04-05T22:31:57.935499Z"
        },
        "trusted": true,
        "id": "WM0-ib9gD70T"
      },
      "execution_count": null,
      "outputs": []
    },
    {
      "cell_type": "code",
      "source": [
        "# Проверка\n",
        "\n",
        "submission.head()"
      ],
      "metadata": {
        "execution": {
          "iopub.status.busy": "2023-04-05T22:32:02.275974Z",
          "iopub.execute_input": "2023-04-05T22:32:02.276770Z",
          "iopub.status.idle": "2023-04-05T22:32:02.291209Z",
          "shell.execute_reply.started": "2023-04-05T22:32:02.276725Z",
          "shell.execute_reply": "2023-04-05T22:32:02.290133Z"
        },
        "trusted": true,
        "id": "LD4Z4zW7D70T",
        "outputId": "bb34029c-2921-4cfa-c6bd-20366f43b355"
      },
      "execution_count": null,
      "outputs": [
        {
          "execution_count": 45,
          "output_type": "execute_result",
          "data": {
            "text/plain": "        SK_ID_CURR    TARGET\n307511      100001  0.032343\n307512      100005  0.156453\n307513      100013  0.022909\n307514      100028  0.028899\n307515      100038  0.110210",
            "text/html": "<div>\n<style scoped>\n    .dataframe tbody tr th:only-of-type {\n        vertical-align: middle;\n    }\n\n    .dataframe tbody tr th {\n        vertical-align: top;\n    }\n\n    .dataframe thead th {\n        text-align: right;\n    }\n</style>\n<table border=\"1\" class=\"dataframe\">\n  <thead>\n    <tr style=\"text-align: right;\">\n      <th></th>\n      <th>SK_ID_CURR</th>\n      <th>TARGET</th>\n    </tr>\n  </thead>\n  <tbody>\n    <tr>\n      <th>307511</th>\n      <td>100001</td>\n      <td>0.032343</td>\n    </tr>\n    <tr>\n      <th>307512</th>\n      <td>100005</td>\n      <td>0.156453</td>\n    </tr>\n    <tr>\n      <th>307513</th>\n      <td>100013</td>\n      <td>0.022909</td>\n    </tr>\n    <tr>\n      <th>307514</th>\n      <td>100028</td>\n      <td>0.028899</td>\n    </tr>\n    <tr>\n      <th>307515</th>\n      <td>100038</td>\n      <td>0.110210</td>\n    </tr>\n  </tbody>\n</table>\n</div>"
          },
          "metadata": {}
        }
      ]
    }
  ]
}